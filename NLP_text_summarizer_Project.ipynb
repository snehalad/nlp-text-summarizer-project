{
  "cells": [
    {
      "cell_type": "markdown",
      "metadata": {
        "id": "view-in-github",
        "colab_type": "text"
      },
      "source": [
        "<a href=\"https://colab.research.google.com/github/snehalad/nlp-text-summarizer-project/blob/main/NLP_text_summarizer_Project.ipynb\" target=\"_parent\"><img src=\"https://colab.research.google.com/assets/colab-badge.svg\" alt=\"Open In Colab\"/></a>"
      ]
    },
    {
      "cell_type": "markdown",
      "metadata": {
        "id": "ZtMLc6RHF8dy"
      },
      "source": [
        "# Milestone Project 2 : SkimLit 📰🔥\n",
        "\n",
        "The Purpose of this notebook is to build an NLP model to make reading medical abstracts easier.\n",
        "\n",
        "The paper we're replicating (the source of the dataset thet we'll be using) is available here: https://arxiv.org/abs/1710.06071\n",
        "\n",
        "And reading through the paper above, we see that the model architecture that they use to achieve their best results is available here: https://arxiv.org/abs/1612.05251"
      ]
    },
    {
      "cell_type": "markdown",
      "metadata": {
        "id": "SRCrctFBGlNj"
      },
      "source": [
        "## Confirm access to a GPU\n"
      ]
    },
    {
      "cell_type": "code",
      "execution_count": null,
      "metadata": {
        "colab": {
          "base_uri": "https://localhost:8080/"
        },
        "id": "TlAFdgHJJYvJ",
        "outputId": "4ae104f6-60bb-4247-d29b-2f2cd123cda0"
      },
      "outputs": [
        {
          "name": "stdout",
          "output_type": "stream",
          "text": [
            "GPU 0: Tesla T4 (UUID: GPU-1c338767-5e69-a195-b748-066cba6baace)\n"
          ]
        }
      ],
      "source": [
        "!nvidia-smi -L"
      ]
    },
    {
      "cell_type": "markdown",
      "metadata": {
        "id": "TBS2Ba5aJc87"
      },
      "source": [
        "## Get Data\n",
        "\n",
        "Since we'll replicating the paper above (PubMed 200k RCT), let's download the dataset they used.\n",
        "We can do so from the authors GitHub: https://github.com/Franck-Dernoncourt/pubmed-rct"
      ]
    },
    {
      "cell_type": "code",
      "execution_count": null,
      "metadata": {
        "colab": {
          "base_uri": "https://localhost:8080/"
        },
        "id": "5UxOz7F1J44S",
        "outputId": "d571efcc-79a6-4933-b275-8d2dc9739ad1"
      },
      "outputs": [
        {
          "name": "stdout",
          "output_type": "stream",
          "text": [
            "fatal: destination path 'pubmed-rct' already exists and is not an empty directory.\n",
            "PubMed_200k_RCT\n",
            "PubMed_200k_RCT_numbers_replaced_with_at_sign\n",
            "PubMed_20k_RCT\n",
            "PubMed_20k_RCT_numbers_replaced_with_at_sign\n",
            "README.md\n"
          ]
        }
      ],
      "source": [
        "!git clone https://github.com/Franck-Dernoncourt/pubmed-rct\n",
        "!ls pubmed-rct"
      ]
    },
    {
      "cell_type": "code",
      "execution_count": null,
      "metadata": {
        "colab": {
          "base_uri": "https://localhost:8080/"
        },
        "id": "jtFlg7czKBYw",
        "outputId": "63734f4c-b1e0-490a-c7b3-46158c93f180"
      },
      "outputs": [
        {
          "name": "stdout",
          "output_type": "stream",
          "text": [
            "dev.txt  test.txt  train.txt\n",
            "dev.txt  test.txt  train.txt\n"
          ]
        }
      ],
      "source": [
        "# check what files are in the PubMed_20kdataset\n",
        "!ls pubmed-rct/PubMed_20k_RCT_numbers_replaced_with_at_sign/ # replace number with sign\n",
        "!ls pubmed-rct/PubMed_20k_RCT/"
      ]
    },
    {
      "cell_type": "code",
      "execution_count": null,
      "metadata": {
        "id": "6-yW8gNbK-Dc"
      },
      "outputs": [],
      "source": [
        "# start our experiments using the 20k dataset with numbers replaced by @ sign \n",
        "data_dir = \"/content/pubmed-rct/PubMed_20k_RCT_numbers_replaced_with_at_sign\""
      ]
    },
    {
      "cell_type": "code",
      "execution_count": null,
      "metadata": {
        "colab": {
          "base_uri": "https://localhost:8080/"
        },
        "id": "Q0OJ4WBiMbFk",
        "outputId": "70613bf6-7f5c-47ef-aa0a-c9e856a85d0d"
      },
      "outputs": [
        {
          "data": {
            "text/plain": [
              "['/content/pubmed-rct/PubMed_20k_RCT_numbers_replaced_with_at_signdev.txt',\n",
              " '/content/pubmed-rct/PubMed_20k_RCT_numbers_replaced_with_at_signtrain.txt',\n",
              " '/content/pubmed-rct/PubMed_20k_RCT_numbers_replaced_with_at_signtest.txt']"
            ]
          },
          "execution_count": 142,
          "metadata": {},
          "output_type": "execute_result"
        }
      ],
      "source": [
        "# check all of the filesnames in the taget directory\n",
        "import os \n",
        "filenames = [data_dir + filename for filename in os.listdir(data_dir)]\n",
        "filenames"
      ]
    },
    {
      "cell_type": "markdown",
      "metadata": {
        "id": "v96eMs21NS3U"
      },
      "source": [
        "## Preprocess Data \n",
        "\n"
      ]
    },
    {
      "cell_type": "code",
      "execution_count": null,
      "metadata": {
        "id": "mhtG6hEq7WRB"
      },
      "outputs": [],
      "source": [
        "# create function to read the lines of a document\n",
        "def get_lines(filename):\n",
        "  \"\"\"\n",
        "  Reads filename (a text filename) and returns the lines of text as a list\n",
        "  Args:\n",
        "    filename : a tring containing the target filepath\n",
        "\n",
        "  Returns:\n",
        "    A list of strings with one string per line from the target filename\n",
        "  \"\"\"\n",
        "  with open(filename, \"r\") as f:\n",
        "    return f.readlines()"
      ]
    },
    {
      "cell_type": "code",
      "execution_count": null,
      "metadata": {
        "colab": {
          "base_uri": "https://localhost:8080/",
          "height": 200
        },
        "id": "NMhtPPdz8gbt",
        "outputId": "f8a6ac10-9dc9-4bef-aa13-ac245b449409"
      },
      "outputs": [
        {
          "output_type": "error",
          "ename": "NameError",
          "evalue": "ignored",
          "traceback": [
            "\u001b[0;31m---------------------------------------------------------------------------\u001b[0m",
            "\u001b[0;31mNameError\u001b[0m                                 Traceback (most recent call last)",
            "\u001b[0;32m<ipython-input-2-def5e0060070>\u001b[0m in \u001b[0;36m<module>\u001b[0;34m\u001b[0m\n\u001b[1;32m      1\u001b[0m \u001b[0;31m# let's read in the training lines\u001b[0m\u001b[0;34m\u001b[0m\u001b[0;34m\u001b[0m\u001b[0m\n\u001b[0;32m----> 2\u001b[0;31m \u001b[0mtrain_lines\u001b[0m \u001b[0;34m=\u001b[0m \u001b[0mget_lines\u001b[0m\u001b[0;34m(\u001b[0m\u001b[0mdata_dir\u001b[0m\u001b[0;34m+\u001b[0m\u001b[0;34m\"/train.txt\"\u001b[0m\u001b[0;34m)\u001b[0m\u001b[0;34m\u001b[0m\u001b[0;34m\u001b[0m\u001b[0m\n\u001b[0m\u001b[1;32m      3\u001b[0m \u001b[0mtrain_lines\u001b[0m\u001b[0;34m[\u001b[0m\u001b[0;34m:\u001b[0m\u001b[0;36m20\u001b[0m\u001b[0;34m]\u001b[0m\u001b[0;34m\u001b[0m\u001b[0;34m\u001b[0m\u001b[0m\n",
            "\u001b[0;31mNameError\u001b[0m: name 'data_dir' is not defined"
          ]
        }
      ],
      "source": [
        "# let's read in the training lines\n",
        "train_lines = get_lines(data_dir+\"/train.txt\") \n",
        "train_lines[:20]"
      ]
    },
    {
      "cell_type": "code",
      "execution_count": null,
      "metadata": {
        "id": "3p_1VmHW81_x"
      },
      "outputs": [],
      "source": [
        "len(train_lines)"
      ]
    },
    {
      "cell_type": "markdown",
      "metadata": {
        "id": "VhDGHiu69-aF"
      },
      "source": [
        "Let's think about how we want our data to look...\n",
        "\n",
        "How i think our data would be best reprented...\n",
        "\n",
        "```\n",
        "  [{'line_number':0 ,\n",
        " \n",
        "    'target':'BACKGROUND',\n",
        "\n",
        "    'text':'Emotional eating is associated with overeating and the development of obesity .',\n",
        "\n",
        "    'total_lines':11},\n",
        "    ...]\n",
        "```"
      ]
    },
    {
      "cell_type": "markdown",
      "metadata": {
        "id": "zJ9sdGQx-27o"
      },
      "source": [
        "Let's write a function which turn each of our datasets into the above format so we can continue to prepare "
      ]
    },
    {
      "cell_type": "code",
      "execution_count": null,
      "metadata": {
        "id": "bNt4TfCRBchK"
      },
      "outputs": [],
      "source": [
        "def preprocess_text_with_line_numbers(filename):\n",
        "  \"\"\"\n",
        "  Returns a list of dictionaries of abstract line data.\n",
        "\n",
        "  Takes in filename, reads it contents and sort through each line, \n",
        "  extarcting things like target label, the text of the sentence,\n",
        "  how many sentences are in the current abstract and what sentence \n",
        "  number the target lines\n",
        "  \"\"\"\n",
        "  input_lines = get_lines(filename) # get all lines from filename \n",
        "  abstract_lines = \"\" # create an empty abstarct\n",
        "  abstarct_samples = [] # create an empty list of abstracts\n",
        "\n",
        "  # Loop through each line in the target file\n",
        "  for line in input_lines:\n",
        "    if line.startswith(\"###\"): # check to see if is an ID line\n",
        "      abstarct_id = line\n",
        "      abstarct_lines = \"\" # reset the abstract string if the line is an ID line\n",
        "    elif line.isspace():\n",
        "      abstarct_line_split = abstarct_lines.splitlines() # split abstarct into separate lines\n",
        "\n",
        "      # Interate through each line in a single abstarct and count them at the same time\n",
        "      for abstarct_line_number, abstract_line in enumerate(abstarct_line_split):\n",
        "        line_data = {} # create an empty directory for each line \n",
        "        target_text_split = abstract_line.split(\"\\t\") # split target label from text\n",
        "        line_data[\"target\"] = target_text_split[0] # get target label\n",
        "        line_data[\"text\"] = target_text_split[1].lower() # get target text and lower it\n",
        "        line_data[\"line_number\"] = abstarct_line_number # what number line does the line apper in the abstarct?\n",
        "        line_data[\"total_lines\"] = len(abstarct_line_split) - 1 # how many total lines are there in the target abstarct\n",
        "        abstarct_samples.append(line_data)\n",
        "\n",
        "    else: # if above condition are'nt fullfill\n",
        "      abstarct_lines += line\n",
        "\n",
        "  return abstarct_samples\n"
      ]
    },
    {
      "cell_type": "code",
      "execution_count": null,
      "metadata": {
        "id": "319U5QtTG8sw"
      },
      "outputs": [],
      "source": [
        "# Get data from file and preprocess it\n",
        "%%time\n",
        "train_samples = preprocess_text_with_line_numbers(data_dir + \"/train.txt\")\n",
        "val_samples = preprocess_text_with_line_numbers(data_dir + \"/dev.txt\")\n",
        "test_samples = preprocess_text_with_line_numbers(data_dir + \"/test.txt\")"
      ]
    },
    {
      "cell_type": "code",
      "execution_count": null,
      "metadata": {
        "id": "_ye7WylRHrcq"
      },
      "outputs": [],
      "source": [
        "# check the first abstarct of our training data\n",
        "train_samples[:14]"
      ]
    },
    {
      "cell_type": "markdown",
      "metadata": {
        "id": "SJeJ1xiuQSun"
      },
      "source": [
        "Now that our data is the format of a list of dictionaries, how about we turn it into a DataFrame to further visualize it?"
      ]
    },
    {
      "cell_type": "code",
      "execution_count": null,
      "metadata": {
        "id": "BHrWkQ30IDzE"
      },
      "outputs": [],
      "source": [
        "import pandas as pd\n",
        "train_df = pd.DataFrame(train_samples)\n",
        "val_df = pd.DataFrame(val_samples)\n",
        "test_df = pd.DataFrame(test_samples)\n",
        "train_df.head(14)"
      ]
    },
    {
      "cell_type": "code",
      "execution_count": null,
      "metadata": {
        "id": "6VU0qVP9Q6Za"
      },
      "outputs": [],
      "source": [
        "# Distribution of labels in training data\n",
        "train_df.target.value_counts()"
      ]
    },
    {
      "cell_type": "code",
      "execution_count": null,
      "metadata": {
        "id": "6IAQPKbPRZXa"
      },
      "outputs": [],
      "source": [
        "# Let's check the length of different lines\n",
        "train_df.total_lines.plot.hist();"
      ]
    },
    {
      "cell_type": "markdown",
      "metadata": {
        "id": "SGkrE-abRpGU"
      },
      "source": [
        "## Get Lists of Sentences"
      ]
    },
    {
      "cell_type": "code",
      "execution_count": null,
      "metadata": {
        "colab": {
          "base_uri": "https://localhost:8080/"
        },
        "id": "HeODF_wyR0sb",
        "outputId": "0282fac9-6742-42f1-cdf4-2821397755b8"
      },
      "outputs": [
        {
          "data": {
            "text/plain": [
              "(180040, 30212, 30135)"
            ]
          },
          "execution_count": 152,
          "metadata": {},
          "output_type": "execute_result"
        }
      ],
      "source": [
        "# convert abstract text lines into lists\n",
        "train_sentences = train_df[\"text\"].tolist()\n",
        "val_sentences = val_df[\"text\"].tolist()\n",
        "test_sentences = test_df[\"text\"].tolist()\n",
        "len(train_sentences), len(val_sentences), len(test_sentences)"
      ]
    },
    {
      "cell_type": "code",
      "execution_count": null,
      "metadata": {
        "colab": {
          "base_uri": "https://localhost:8080/"
        },
        "id": "5Rd2wzgESXbD",
        "outputId": "a72a59e0-85fb-46f4-87f8-a6de8a1a1889"
      },
      "outputs": [
        {
          "data": {
            "text/plain": [
              "['to investigate the efficacy of @ weeks of daily low-dose oral prednisolone in improving pain , mobility , and systemic low-grade inflammation in the short term and whether the effect would be sustained at @ weeks in older adults with moderate to severe knee osteoarthritis ( oa ) .',\n",
              " 'a total of @ patients with primary knee oa were randomized @:@ ; @ received @ mg/day of prednisolone and @ received placebo for @ weeks .',\n",
              " 'outcome measures included pain reduction and improvement in function scores and systemic inflammation markers .',\n",
              " 'pain was assessed using the visual analog pain scale ( @-@ mm ) .',\n",
              " 'secondary outcome measures included the western ontario and mcmaster universities osteoarthritis index scores , patient global assessment ( pga ) of the severity of knee oa , and @-min walk distance ( @mwd ) .',\n",
              " 'serum levels of interleukin @ ( il-@ ) , il-@ , tumor necrosis factor ( tnf ) - , and high-sensitivity c-reactive protein ( hscrp ) were measured .',\n",
              " 'there was a clinically relevant reduction in the intervention group compared to the placebo group for knee pain , physical function , pga , and @mwd at @ weeks .',\n",
              " 'the mean difference between treatment arms ( @ % ci ) was @ ( @-@ @ ) , p < @ ; @ ( @-@ @ ) , p < @ ; @ ( @-@ @ ) , p < @ ; and @ ( @-@ @ ) , p < @ , respectively .',\n",
              " 'further , there was a clinically relevant reduction in the serum levels of il-@ , il-@ , tnf - , and hscrp at @ weeks in the intervention group when compared to the placebo group .',\n",
              " 'these differences remained significant at @ weeks .']"
            ]
          },
          "execution_count": 153,
          "metadata": {},
          "output_type": "execute_result"
        }
      ],
      "source": [
        "# view the 10 lines of training sentences\n",
        "train_sentences[:10]"
      ]
    },
    {
      "cell_type": "markdown",
      "metadata": {
        "id": "lZ-9a8VSS3tr"
      },
      "source": [
        "## Make numeric labels(ML Models require numeric Labels)"
      ]
    },
    {
      "cell_type": "markdown",
      "metadata": {
        "id": "6LYt_jCiEUft"
      },
      "source": [
        "### OneHotEncoder"
      ]
    },
    {
      "cell_type": "code",
      "execution_count": null,
      "metadata": {
        "colab": {
          "base_uri": "https://localhost:8080/"
        },
        "id": "vrMjrTX1TQyR",
        "outputId": "1b8349b8-6e42-4905-e75b-48fe4191514f"
      },
      "outputs": [
        {
          "name": "stderr",
          "output_type": "stream",
          "text": [
            "/usr/local/lib/python3.9/dist-packages/sklearn/preprocessing/_encoders.py:868: FutureWarning: `sparse` was renamed to `sparse_output` in version 1.2 and will be removed in 1.4. `sparse_output` is ignored unless you leave `sparse` to its default value.\n",
            "  warnings.warn(\n",
            "/usr/local/lib/python3.9/dist-packages/sklearn/preprocessing/_encoders.py:868: FutureWarning: `sparse` was renamed to `sparse_output` in version 1.2 and will be removed in 1.4. `sparse_output` is ignored unless you leave `sparse` to its default value.\n",
            "  warnings.warn(\n",
            "/usr/local/lib/python3.9/dist-packages/sklearn/preprocessing/_encoders.py:868: FutureWarning: `sparse` was renamed to `sparse_output` in version 1.2 and will be removed in 1.4. `sparse_output` is ignored unless you leave `sparse` to its default value.\n",
            "  warnings.warn(\n"
          ]
        },
        {
          "data": {
            "text/plain": [
              "array([[0., 0., 0., 1., 0.],\n",
              "       [0., 0., 1., 0., 0.],\n",
              "       [0., 0., 1., 0., 0.],\n",
              "       ...,\n",
              "       [0., 0., 0., 0., 1.],\n",
              "       [0., 1., 0., 0., 0.],\n",
              "       [0., 1., 0., 0., 0.]])"
            ]
          },
          "execution_count": 154,
          "metadata": {},
          "output_type": "execute_result"
        }
      ],
      "source": [
        "# one hot encoder labels\n",
        "from sklearn.preprocessing import OneHotEncoder\n",
        "one_hot_encoder = OneHotEncoder(sparse=False) # we want non-saparse matrix\n",
        "train_lables_one_hot = one_hot_encoder.fit_transform(train_df['target'].to_numpy().reshape(-1, 1))\n",
        "val_labels_one_hot = one_hot_encoder.fit_transform(val_df['target'].to_numpy().reshape(-1, 1))\n",
        "test_labels_one_hot = one_hot_encoder.fit_transform(test_df['target'].to_numpy().reshape(-1, 1))\n",
        "\n",
        "# check what one hot encoded labels look like\n",
        "train_lables_one_hot"
      ]
    },
    {
      "cell_type": "markdown",
      "metadata": {
        "id": "27oIreVWUpTV"
      },
      "source": [
        "### Label encode Labels"
      ]
    },
    {
      "cell_type": "code",
      "execution_count": null,
      "metadata": {
        "colab": {
          "base_uri": "https://localhost:8080/"
        },
        "id": "unQWIxTlV6pb",
        "outputId": "f197e821-9560-478e-af96-3c071e1fd033"
      },
      "outputs": [
        {
          "data": {
            "text/plain": [
              "array([3, 2, 2, 2, 2, 2, 4, 4, 4, 4])"
            ]
          },
          "execution_count": 155,
          "metadata": {},
          "output_type": "execute_result"
        }
      ],
      "source": [
        "# exatract labels (\"target\" columns) and encode them into integers\n",
        "from sklearn.preprocessing import LabelEncoder\n",
        "\n",
        "label_encoder = LabelEncoder()\n",
        "train_labels_encoded = label_encoder.fit_transform(train_df['target'].to_numpy())\n",
        "val_labels_encoded = label_encoder.fit_transform(val_df['target'].to_numpy())\n",
        "test_labels_encoded = label_encoder.fit_transform(test_df['target'].to_numpy())\n",
        "\n",
        "# check what training labels look like\n",
        "train_labels_encoded[:10]"
      ]
    },
    {
      "cell_type": "code",
      "execution_count": null,
      "metadata": {
        "colab": {
          "base_uri": "https://localhost:8080/"
        },
        "id": "jDV5RwNfENqg",
        "outputId": "ad5121c9-196f-4e6c-d4b5-a61786edb94f"
      },
      "outputs": [
        {
          "data": {
            "text/plain": [
              "(5, array(['BACKGROUND', 'CONCLUSIONS', 'METHODS', 'OBJECTIVE', 'RESULTS'],\n",
              "       dtype=object))"
            ]
          },
          "execution_count": 156,
          "metadata": {},
          "output_type": "execute_result"
        }
      ],
      "source": [
        "# Get class names and number of classes from LabelEncoder instance\n",
        "num_classes = len(label_encoder.classes_)\n",
        "class_names = label_encoder.classes_\n",
        "num_classes, class_names"
      ]
    },
    {
      "cell_type": "markdown",
      "metadata": {
        "id": "wNGrNnPsFAB5"
      },
      "source": [
        "# Starting a Series of Modelling Experiments....\n",
        "\n",
        "![image.png](data:image/png;base64,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)\n",
        "\n"
      ]
    },
    {
      "cell_type": "markdown",
      "metadata": {
        "id": "rT7S6xc0F32Z"
      },
      "source": [
        "## Model 0 : Getting a Baseline\n",
        "baseline(TF-IDF Multinominal Naive Bayes Classifier)"
      ]
    },
    {
      "cell_type": "code",
      "execution_count": null,
      "metadata": {
        "colab": {
          "base_uri": "https://localhost:8080/"
        },
        "id": "uIm6szCGGVkc",
        "outputId": "edbeffee-6950-4a99-b834-6c3c7fa77419"
      },
      "outputs": [
        {
          "data": {
            "text/html": [
              "<style>#sk-container-id-2 {color: black;background-color: white;}#sk-container-id-2 pre{padding: 0;}#sk-container-id-2 div.sk-toggleable {background-color: white;}#sk-container-id-2 label.sk-toggleable__label {cursor: pointer;display: block;width: 100%;margin-bottom: 0;padding: 0.3em;box-sizing: border-box;text-align: center;}#sk-container-id-2 label.sk-toggleable__label-arrow:before {content: \"▸\";float: left;margin-right: 0.25em;color: #696969;}#sk-container-id-2 label.sk-toggleable__label-arrow:hover:before {color: black;}#sk-container-id-2 div.sk-estimator:hover label.sk-toggleable__label-arrow:before {color: black;}#sk-container-id-2 div.sk-toggleable__content {max-height: 0;max-width: 0;overflow: hidden;text-align: left;background-color: #f0f8ff;}#sk-container-id-2 div.sk-toggleable__content pre {margin: 0.2em;color: black;border-radius: 0.25em;background-color: #f0f8ff;}#sk-container-id-2 input.sk-toggleable__control:checked~div.sk-toggleable__content {max-height: 200px;max-width: 100%;overflow: auto;}#sk-container-id-2 input.sk-toggleable__control:checked~label.sk-toggleable__label-arrow:before {content: \"▾\";}#sk-container-id-2 div.sk-estimator input.sk-toggleable__control:checked~label.sk-toggleable__label {background-color: #d4ebff;}#sk-container-id-2 div.sk-label input.sk-toggleable__control:checked~label.sk-toggleable__label {background-color: #d4ebff;}#sk-container-id-2 input.sk-hidden--visually {border: 0;clip: rect(1px 1px 1px 1px);clip: rect(1px, 1px, 1px, 1px);height: 1px;margin: -1px;overflow: hidden;padding: 0;position: absolute;width: 1px;}#sk-container-id-2 div.sk-estimator {font-family: monospace;background-color: #f0f8ff;border: 1px dotted black;border-radius: 0.25em;box-sizing: border-box;margin-bottom: 0.5em;}#sk-container-id-2 div.sk-estimator:hover {background-color: #d4ebff;}#sk-container-id-2 div.sk-parallel-item::after {content: \"\";width: 100%;border-bottom: 1px solid gray;flex-grow: 1;}#sk-container-id-2 div.sk-label:hover label.sk-toggleable__label {background-color: #d4ebff;}#sk-container-id-2 div.sk-serial::before {content: \"\";position: absolute;border-left: 1px solid gray;box-sizing: border-box;top: 0;bottom: 0;left: 50%;z-index: 0;}#sk-container-id-2 div.sk-serial {display: flex;flex-direction: column;align-items: center;background-color: white;padding-right: 0.2em;padding-left: 0.2em;position: relative;}#sk-container-id-2 div.sk-item {position: relative;z-index: 1;}#sk-container-id-2 div.sk-parallel {display: flex;align-items: stretch;justify-content: center;background-color: white;position: relative;}#sk-container-id-2 div.sk-item::before, #sk-container-id-2 div.sk-parallel-item::before {content: \"\";position: absolute;border-left: 1px solid gray;box-sizing: border-box;top: 0;bottom: 0;left: 50%;z-index: -1;}#sk-container-id-2 div.sk-parallel-item {display: flex;flex-direction: column;z-index: 1;position: relative;background-color: white;}#sk-container-id-2 div.sk-parallel-item:first-child::after {align-self: flex-end;width: 50%;}#sk-container-id-2 div.sk-parallel-item:last-child::after {align-self: flex-start;width: 50%;}#sk-container-id-2 div.sk-parallel-item:only-child::after {width: 0;}#sk-container-id-2 div.sk-dashed-wrapped {border: 1px dashed gray;margin: 0 0.4em 0.5em 0.4em;box-sizing: border-box;padding-bottom: 0.4em;background-color: white;}#sk-container-id-2 div.sk-label label {font-family: monospace;font-weight: bold;display: inline-block;line-height: 1.2em;}#sk-container-id-2 div.sk-label-container {text-align: center;}#sk-container-id-2 div.sk-container {/* jupyter's `normalize.less` sets `[hidden] { display: none; }` but bootstrap.min.css set `[hidden] { display: none !important; }` so we also need the `!important` here to be able to override the default hidden behavior on the sphinx rendered scikit-learn.org. See: https://github.com/scikit-learn/scikit-learn/issues/21755 */display: inline-block !important;position: relative;}#sk-container-id-2 div.sk-text-repr-fallback {display: none;}</style><div id=\"sk-container-id-2\" class=\"sk-top-container\"><div class=\"sk-text-repr-fallback\"><pre>Pipeline(steps=[(&#x27;tf-idf&#x27;, TfidfVectorizer()), (&#x27;clf&#x27;, MultinomialNB())])</pre><b>In a Jupyter environment, please rerun this cell to show the HTML representation or trust the notebook. <br />On GitHub, the HTML representation is unable to render, please try loading this page with nbviewer.org.</b></div><div class=\"sk-container\" hidden><div class=\"sk-item sk-dashed-wrapped\"><div class=\"sk-label-container\"><div class=\"sk-label sk-toggleable\"><input class=\"sk-toggleable__control sk-hidden--visually\" id=\"sk-estimator-id-4\" type=\"checkbox\" ><label for=\"sk-estimator-id-4\" class=\"sk-toggleable__label sk-toggleable__label-arrow\">Pipeline</label><div class=\"sk-toggleable__content\"><pre>Pipeline(steps=[(&#x27;tf-idf&#x27;, TfidfVectorizer()), (&#x27;clf&#x27;, MultinomialNB())])</pre></div></div></div><div class=\"sk-serial\"><div class=\"sk-item\"><div class=\"sk-estimator sk-toggleable\"><input class=\"sk-toggleable__control sk-hidden--visually\" id=\"sk-estimator-id-5\" type=\"checkbox\" ><label for=\"sk-estimator-id-5\" class=\"sk-toggleable__label sk-toggleable__label-arrow\">TfidfVectorizer</label><div class=\"sk-toggleable__content\"><pre>TfidfVectorizer()</pre></div></div></div><div class=\"sk-item\"><div class=\"sk-estimator sk-toggleable\"><input class=\"sk-toggleable__control sk-hidden--visually\" id=\"sk-estimator-id-6\" type=\"checkbox\" ><label for=\"sk-estimator-id-6\" class=\"sk-toggleable__label sk-toggleable__label-arrow\">MultinomialNB</label><div class=\"sk-toggleable__content\"><pre>MultinomialNB()</pre></div></div></div></div></div></div></div>"
            ],
            "text/plain": [
              "Pipeline(steps=[('tf-idf', TfidfVectorizer()), ('clf', MultinomialNB())])"
            ]
          },
          "execution_count": 157,
          "metadata": {},
          "output_type": "execute_result"
        }
      ],
      "source": [
        "from sklearn.feature_extraction.text import TfidfVectorizer\n",
        "from sklearn.naive_bayes import MultinomialNB\n",
        "from sklearn.pipeline import Pipeline\n",
        "\n",
        "# create a pipeline\n",
        "model_0 = Pipeline([\n",
        "    (\"tf-idf\", TfidfVectorizer()),\n",
        "    (\"clf\", MultinomialNB())\n",
        "])\n",
        "\n",
        "# fit the pipeline to training data\n",
        "model_0.fit(X=train_sentences,\n",
        "            y=train_labels_encoded)"
      ]
    },
    {
      "cell_type": "code",
      "execution_count": null,
      "metadata": {
        "colab": {
          "base_uri": "https://localhost:8080/"
        },
        "id": "xh2ZXctzKOVG",
        "outputId": "de17ce85-1e7f-46f9-8c17-adb2d562b77d"
      },
      "outputs": [
        {
          "data": {
            "text/plain": [
              "0.7218323844829869"
            ]
          },
          "execution_count": 158,
          "metadata": {},
          "output_type": "execute_result"
        }
      ],
      "source": [
        "# evaluate baseline model on valiadation datatset\n",
        "model_0.score(X=val_sentences,\n",
        "              y=val_labels_encoded)"
      ]
    },
    {
      "cell_type": "code",
      "execution_count": null,
      "metadata": {
        "colab": {
          "base_uri": "https://localhost:8080/"
        },
        "id": "BORdDDu3KpW6",
        "outputId": "2af7c418-23cc-4070-e64b-2badae99044c"
      },
      "outputs": [
        {
          "data": {
            "text/plain": [
              "array([4, 1, 3, ..., 4, 4, 1])"
            ]
          },
          "execution_count": 159,
          "metadata": {},
          "output_type": "execute_result"
        }
      ],
      "source": [
        "# make predictions using our baseleine model\n",
        "baseline_preds = model_0.predict(val_sentences)\n",
        "baseline_preds"
      ]
    },
    {
      "cell_type": "code",
      "execution_count": null,
      "metadata": {
        "colab": {
          "base_uri": "https://localhost:8080/"
        },
        "id": "9J8iF9XVK6Zn",
        "outputId": "ec1ff560-5e9e-4ef3-884d-ca48b51bb285"
      },
      "outputs": [
        {
          "name": "stdout",
          "output_type": "stream",
          "text": [
            "--2023-03-17 05:07:46--  https://raw.githubusercontent.com/mrdbourke/tensorflow-deep-learning/main/extras/helper_functions.py\n",
            "Resolving raw.githubusercontent.com (raw.githubusercontent.com)... 185.199.108.133, 185.199.109.133, 185.199.110.133, ...\n",
            "Connecting to raw.githubusercontent.com (raw.githubusercontent.com)|185.199.108.133|:443... connected.\n",
            "HTTP request sent, awaiting response... 200 OK\n",
            "Length: 10246 (10K) [text/plain]\n",
            "Saving to: ‘helper_functions.py.1’\n",
            "\n",
            "\rhelper_functions.py   0%[                    ]       0  --.-KB/s               \rhelper_functions.py 100%[===================>]  10.01K  --.-KB/s    in 0s      \n",
            "\n",
            "2023-03-17 05:07:46 (42.1 MB/s) - ‘helper_functions.py.1’ saved [10246/10246]\n",
            "\n"
          ]
        }
      ],
      "source": [
        "# download helper functions\n",
        "!wget https://raw.githubusercontent.com/mrdbourke/tensorflow-deep-learning/main/extras/helper_functions.py"
      ]
    },
    {
      "cell_type": "code",
      "execution_count": null,
      "metadata": {
        "id": "1lLhdRYiLXID"
      },
      "outputs": [],
      "source": [
        "from helper_functions import calculate_results"
      ]
    },
    {
      "cell_type": "code",
      "execution_count": null,
      "metadata": {
        "colab": {
          "base_uri": "https://localhost:8080/"
        },
        "id": "VC8i9JDLLdEB",
        "outputId": "b28e9f21-d91e-4d76-80f3-3d38e556aff9"
      },
      "outputs": [
        {
          "data": {
            "text/plain": [
              "{'accuracy': 72.1832384482987,\n",
              " 'precision': 0.7186466952323352,\n",
              " 'recall': 0.7218323844829869,\n",
              " 'f1': 0.6989250353450294}"
            ]
          },
          "execution_count": 162,
          "metadata": {},
          "output_type": "execute_result"
        }
      ],
      "source": [
        "# calculate baseline results\n",
        "baseline_results = calculate_results(y_true=val_labels_encoded,\n",
        "                                     y_pred=baseline_preds)\n",
        "baseline_results"
      ]
    },
    {
      "cell_type": "markdown",
      "metadata": {
        "id": "51eKwNWmLxY6"
      },
      "source": [
        "# Preparing our data (the text) of deep sequence models\n",
        "\n",
        "Before we start building deeper models, we've got to create vectorization and embedding layers."
      ]
    },
    {
      "cell_type": "code",
      "execution_count": null,
      "metadata": {
        "id": "ixbFP9ZsSoIL"
      },
      "outputs": [],
      "source": [
        "import numpy as np\n",
        "import tensorflow as tf\n",
        "from tensorflow.keras import layers"
      ]
    },
    {
      "cell_type": "code",
      "execution_count": null,
      "metadata": {
        "colab": {
          "base_uri": "https://localhost:8080/"
        },
        "id": "Ymq-iuF6S9aW",
        "outputId": "28151cc2-4a07-497c-b935-4e2e60219a4b"
      },
      "outputs": [
        {
          "data": {
            "text/plain": [
              "['to investigate the efficacy of @ weeks of daily low-dose oral prednisolone in improving pain , mobility , and systemic low-grade inflammation in the short term and whether the effect would be sustained at @ weeks in older adults with moderate to severe knee osteoarthritis ( oa ) .',\n",
              " 'a total of @ patients with primary knee oa were randomized @:@ ; @ received @ mg/day of prednisolone and @ received placebo for @ weeks .',\n",
              " 'outcome measures included pain reduction and improvement in function scores and systemic inflammation markers .',\n",
              " 'pain was assessed using the visual analog pain scale ( @-@ mm ) .',\n",
              " 'secondary outcome measures included the western ontario and mcmaster universities osteoarthritis index scores , patient global assessment ( pga ) of the severity of knee oa , and @-min walk distance ( @mwd ) .',\n",
              " 'serum levels of interleukin @ ( il-@ ) , il-@ , tumor necrosis factor ( tnf ) - , and high-sensitivity c-reactive protein ( hscrp ) were measured .',\n",
              " 'there was a clinically relevant reduction in the intervention group compared to the placebo group for knee pain , physical function , pga , and @mwd at @ weeks .',\n",
              " 'the mean difference between treatment arms ( @ % ci ) was @ ( @-@ @ ) , p < @ ; @ ( @-@ @ ) , p < @ ; @ ( @-@ @ ) , p < @ ; and @ ( @-@ @ ) , p < @ , respectively .',\n",
              " 'further , there was a clinically relevant reduction in the serum levels of il-@ , il-@ , tnf - , and hscrp at @ weeks in the intervention group when compared to the placebo group .',\n",
              " 'these differences remained significant at @ weeks .']"
            ]
          },
          "execution_count": 164,
          "metadata": {},
          "output_type": "execute_result"
        }
      ],
      "source": [
        "train_sentences[:10]"
      ]
    },
    {
      "cell_type": "code",
      "execution_count": null,
      "metadata": {
        "colab": {
          "base_uri": "https://localhost:8080/"
        },
        "id": "7aFQTO07TBld",
        "outputId": "1f7e4fbf-eac4-4e39-c949-d967c4e1f96b"
      },
      "outputs": [
        {
          "data": {
            "text/plain": [
              "26.338269273494777"
            ]
          },
          "execution_count": 165,
          "metadata": {},
          "output_type": "execute_result"
        }
      ],
      "source": [
        "# how long is each sentence on average?\n",
        "sent_lens = [len(sentence.split()) for sentence in train_sentences]\n",
        "avg_sent_len = np.mean(sent_lens)\n",
        "avg_sent_len"
      ]
    },
    {
      "cell_type": "code",
      "execution_count": null,
      "metadata": {
        "colab": {
          "base_uri": "https://localhost:8080/",
          "height": 404
        },
        "id": "oh9L9iHaTtTj",
        "outputId": "107cc0c4-fa51-45f9-ca37-bb4d08a74941"
      },
      "outputs": [
        {
          "data": {
            "text/plain": [
              "(array([4.2075e+04, 8.3771e+04, 3.6877e+04, 1.0945e+04, 3.9310e+03,\n",
              "        1.4450e+03, 5.6000e+02, 2.2600e+02, 1.0100e+02, 4.5000e+01,\n",
              "        2.0000e+01, 1.2000e+01, 9.0000e+00, 1.0000e+01, 6.0000e+00,\n",
              "        2.0000e+00, 3.0000e+00, 0.0000e+00, 1.0000e+00, 1.0000e+00]),\n",
              " array([  1.  ,  15.75,  30.5 ,  45.25,  60.  ,  74.75,  89.5 , 104.25,\n",
              "        119.  , 133.75, 148.5 , 163.25, 178.  , 192.75, 207.5 , 222.25,\n",
              "        237.  , 251.75, 266.5 , 281.25, 296.  ]),\n",
              " <BarContainer object of 20 artists>)"
            ]
          },
          "execution_count": 166,
          "metadata": {},
          "output_type": "execute_result"
        },
        {
          "data": {
            "image/png": "[encoded data removed]",
            "text/plain": [
              "<Figure size 432x288 with 1 Axes>"
            ]
          },
          "metadata": {},
          "output_type": "display_data"
        }
      ],
      "source": [
        "# what's the distribution look like?\n",
        "import matplotlib.pyplot as plt\n",
        "plt.hist(sent_lens, bins=20)"
      ]
    },
    {
      "cell_type": "code",
      "execution_count": null,
      "metadata": {
        "colab": {
          "base_uri": "https://localhost:8080/"
        },
        "id": "hQNX3p9iT8X7",
        "outputId": "56c03e04-ce2c-499c-841e-53936cd90900"
      },
      "outputs": [
        {
          "data": {
            "text/plain": [
              "55"
            ]
          },
          "execution_count": 167,
          "metadata": {},
          "output_type": "execute_result"
        }
      ],
      "source": [
        "# how long of a sentence lenght covers 95% of examples\n",
        "output_seq_len = int(np.percentile(sent_lens, 95))\n",
        "output_seq_len"
      ]
    },
    {
      "cell_type": "code",
      "execution_count": null,
      "metadata": {
        "colab": {
          "base_uri": "https://localhost:8080/"
        },
        "id": "vMbm-N4qVGZw",
        "outputId": "bbd5e8c6-0ca4-43cf-9f28-3027aeb5e073"
      },
      "outputs": [
        {
          "data": {
            "text/plain": [
              "296"
            ]
          },
          "execution_count": 168,
          "metadata": {},
          "output_type": "execute_result"
        }
      ],
      "source": [
        "# maximum sequence length in the training set\n",
        "max(sent_lens)"
      ]
    },
    {
      "cell_type": "markdown",
      "metadata": {
        "id": "gK0mVtcgVRWu"
      },
      "source": [
        "# Create text Vectorizer layer\n",
        "We want to make a layer which maps our texts from words to number"
      ]
    },
    {
      "cell_type": "code",
      "execution_count": null,
      "metadata": {
        "id": "fouEnsAhXZQA"
      },
      "outputs": [],
      "source": [
        "# how many words are in our vocab? (taken from table 2 in: https://arxiv.org/abs/1710.06071 pdf)\n",
        "max_tokens = 68000"
      ]
    },
    {
      "cell_type": "code",
      "execution_count": null,
      "metadata": {
        "id": "fSleDN7-XqAG"
      },
      "outputs": [],
      "source": [
        "# create text vectorizer\n",
        "from tensorflow.keras.layers import TextVectorization\n",
        "\n",
        "text_vectorizer = TextVectorization(max_tokens=max_tokens,\n",
        "                                    output_sequence_length=output_seq_len)"
      ]
    },
    {
      "cell_type": "code",
      "execution_count": null,
      "metadata": {
        "id": "-STxEEP4ZDpc"
      },
      "outputs": [],
      "source": [
        "# adapt text vectorizer to taining data\n",
        "text_vectorizer.adapt(train_sentences)"
      ]
    },
    {
      "cell_type": "code",
      "execution_count": null,
      "metadata": {
        "colab": {
          "base_uri": "https://localhost:8080/"
        },
        "id": "X7EVrnvEZXhf",
        "outputId": "2b488cd9-b829-406c-923b-84b05a4bb04a"
      },
      "outputs": [
        {
          "name": "stdout",
          "output_type": "stream",
          "text": [
            "Text:\n",
            "the study was terminated early because of safety concerns ( hypoglycaemia ) .\n",
            "\n",
            "Length of text: 13\n",
            "\n",
            "Vectorized text: [[   2   17   10 4461  224  542    4  136 1713 4239    0    0    0    0\n",
            "     0    0    0    0    0    0    0    0    0    0    0    0    0    0\n",
            "     0    0    0    0    0    0    0    0    0    0    0    0    0    0\n",
            "     0    0    0    0    0    0    0    0    0    0    0    0    0]]\n"
          ]
        }
      ],
      "source": [
        "# test out text vectorization on random sentences\n",
        "import random\n",
        "target_sentence = random.choice(train_sentences)\n",
        "print(f\"Text:\\n{target_sentence}\")\n",
        "print(f\"\\nLength of text: {len(target_sentence.split())}\")\n",
        "print(f\"\\nVectorized text: {text_vectorizer([target_sentence])}\")"
      ]
    },
    {
      "cell_type": "code",
      "execution_count": null,
      "metadata": {
        "colab": {
          "base_uri": "https://localhost:8080/"
        },
        "id": "kf0350bpajQE",
        "outputId": "0279d430-f355-41a1-b65d-f0f0d25419a0"
      },
      "outputs": [
        {
          "name": "stdout",
          "output_type": "stream",
          "text": [
            "Number of words in vocab: 64841\n",
            "Most common words in the vocab: ['', '[UNK]', 'the', 'and', 'of']\n",
            "Least common words in the vocab: ['aainduced', 'aaigroup', 'aachener', 'aachen', 'aaacp']\n"
          ]
        }
      ],
      "source": [
        "# how many words in our training vocabulary\n",
        "rct_20k_text_vocab = text_vectorizer.get_vocabulary()\n",
        "print(f\"Number of words in vocab: {len(rct_20k_text_vocab)}\")\n",
        "print(f\"Most common words in the vocab: {rct_20k_text_vocab[:5]}\")\n",
        "print(f\"Least common words in the vocab: {rct_20k_text_vocab[-5:]}\")"
      ]
    },
    {
      "cell_type": "code",
      "execution_count": null,
      "metadata": {
        "colab": {
          "base_uri": "https://localhost:8080/"
        },
        "id": "Ns-ObwsGbwj9",
        "outputId": "ab2ce7db-962e-460e-d607-f63462f70024"
      },
      "outputs": [
        {
          "data": {
            "text/plain": [
              "{'name': 'text_vectorization',\n",
              " 'trainable': True,\n",
              " 'dtype': 'string',\n",
              " 'batch_input_shape': (None,),\n",
              " 'max_tokens': 68000,\n",
              " 'standardize': 'lower_and_strip_punctuation',\n",
              " 'split': 'whitespace',\n",
              " 'ngrams': None,\n",
              " 'output_mode': 'int',\n",
              " 'output_sequence_length': 55,\n",
              " 'pad_to_max_tokens': False,\n",
              " 'sparse': False,\n",
              " 'ragged': False,\n",
              " 'vocabulary': None,\n",
              " 'idf_weights': None,\n",
              " 'encoding': 'utf-8'}"
            ]
          },
          "execution_count": 173,
          "metadata": {},
          "output_type": "execute_result"
        }
      ],
      "source": [
        "# get the config of our text vectorizer\n",
        "text_vectorizer.get_config()"
      ]
    },
    {
      "cell_type": "markdown",
      "metadata": {
        "id": "3o5Lws0ZcG8k"
      },
      "source": [
        "# Create Custom text Embedding"
      ]
    },
    {
      "cell_type": "code",
      "execution_count": null,
      "metadata": {
        "id": "dmmK2s4acgSN"
      },
      "outputs": [],
      "source": [
        "# create token embedding layer\n",
        "token_embed = layers.Embedding(input_dim=len(rct_20k_text_vocab),\n",
        "                               output_dim=128,\n",
        "                               mask_zero=True,\n",
        "                               name=\"token_embedding\")"
      ]
    },
    {
      "cell_type": "code",
      "execution_count": null,
      "metadata": {
        "colab": {
          "base_uri": "https://localhost:8080/"
        },
        "id": "hv-NNQk3d0L7",
        "outputId": "891c7381-ddbe-4808-a13f-14ce1a463462"
      },
      "outputs": [
        {
          "name": "stdout",
          "output_type": "stream",
          "text": [
            "Sentence before vectorization:\n",
            "the study was terminated early because of safety concerns ( hypoglycaemia ) .\n",
            "\n",
            "Sentence after vectorization (before embedding):\n",
            " [[   2   17   10 4461  224  542    4  136 1713 4239    0    0    0    0\n",
            "     0    0    0    0    0    0    0    0    0    0    0    0    0    0\n",
            "     0    0    0    0    0    0    0    0    0    0    0    0    0    0\n",
            "     0    0    0    0    0    0    0    0    0    0    0    0    0]]\n",
            "Sentence after embedding:\n",
            "[[[ 0.01328746  0.04259384 -0.02139454 ...  0.0100982   0.03442068\n",
            "    0.0496765 ]\n",
            "  [-0.03396501 -0.02917922 -0.03281844 ...  0.02821929  0.02789005\n",
            "    0.0305598 ]\n",
            "  [-0.0038735  -0.01884311 -0.03462338 ... -0.03313265  0.04813815\n",
            "   -0.0348335 ]\n",
            "  ...\n",
            "  [ 0.04725363 -0.04344726  0.04700173 ... -0.02180071  0.04626748\n",
            "    0.01354487]\n",
            "  [ 0.04725363 -0.04344726  0.04700173 ... -0.02180071  0.04626748\n",
            "    0.01354487]\n",
            "  [ 0.04725363 -0.04344726  0.04700173 ... -0.02180071  0.04626748\n",
            "    0.01354487]]]\n",
            "Embeded Sentence shape:(1, 55, 128)\n"
          ]
        }
      ],
      "source": [
        "# show example embedding \n",
        "print(f\"Sentence before vectorization:\\n{target_sentence}\\n\")\n",
        "vectorized_sen = text_vectorizer([target_sentence])\n",
        "print(f\"Sentence after vectorization (before embedding):\\n {vectorized_sen}\")\n",
        "embeded_sen = token_embed(vectorized_sen)\n",
        "print(f\"Sentence after embedding:\\n{embeded_sen}\")\n",
        "print(f\"Embeded Sentence shape:{embeded_sen.shape}\")"
      ]
    },
    {
      "cell_type": "markdown",
      "metadata": {
        "id": "MaM9DW2Ae7vW"
      },
      "source": [
        "# Creating datasets (making sure our data loads as fast as possible)\n",
        "\n",
        "we're going to setup our data to run as fast as possible with the Tensorflow tf.data API, many of steps here discussed at length in these two resources:\n",
        "\n",
        "\n",
        "- https://www.tensorflow.org/guide/data\n",
        "- https://www.tensorflow.org/api_docs/python/tf/data/Dataset\n",
        "- https://www.tensorflow.org/guide/data_performance"
      ]
    },
    {
      "cell_type": "code",
      "execution_count": null,
      "metadata": {
        "colab": {
          "base_uri": "https://localhost:8080/"
        },
        "id": "g2Keb9uBVMS3",
        "outputId": "18f39038-fa78-441e-a9b4-e518c45e2dab"
      },
      "outputs": [
        {
          "data": {
            "text/plain": [
              "<TensorSliceDataset element_spec=(TensorSpec(shape=(), dtype=tf.string, name=None), TensorSpec(shape=(5,), dtype=tf.float64, name=None))>"
            ]
          },
          "execution_count": 176,
          "metadata": {},
          "output_type": "execute_result"
        }
      ],
      "source": [
        "# Turn our data into Tensorflow Datasets (create dataset)\n",
        "train_dataset = tf.data.Dataset.from_tensor_slices((train_sentences, train_lables_one_hot))\n",
        "valid_dataset = tf.data.Dataset.from_tensor_slices((val_sentences, val_labels_one_hot))\n",
        "test_dataset = tf.data.Dataset.from_tensor_slices((test_sentences, test_labels_one_hot))\n",
        "train_dataset"
      ]
    },
    {
      "cell_type": "code",
      "execution_count": null,
      "metadata": {
        "colab": {
          "base_uri": "https://localhost:8080/"
        },
        "id": "I7GuokWYWc0E",
        "outputId": "35abd23c-a13b-4768-9a70-adf63fbb461c"
      },
      "outputs": [
        {
          "data": {
            "text/plain": [
              "<PrefetchDataset element_spec=(TensorSpec(shape=(None,), dtype=tf.string, name=None), TensorSpec(shape=(None, 5), dtype=tf.float64, name=None))>"
            ]
          },
          "execution_count": 177,
          "metadata": {},
          "output_type": "execute_result"
        }
      ],
      "source": [
        "# take the tensorSliceDataset and turn them into prefetched datasets\n",
        "train_dataset = train_dataset.batch(32).prefetch(tf.data.AUTOTUNE)\n",
        "valid_dataset = valid_dataset.batch(32).prefetch(tf.data.AUTOTUNE)\n",
        "test_dataset = test_dataset.batch(32).prefetch(tf.data.AUTOTUNE)\n",
        "\n",
        "train_dataset"
      ]
    },
    {
      "cell_type": "markdown",
      "metadata": {
        "id": "CX8ryALVYNOq"
      },
      "source": [
        "## Model 1 : Conv1D with token embedding\n",
        "\n",
        "We're trying to implement model from https://arxiv.org/pdf/1612.05251.pdf"
      ]
    },
    {
      "cell_type": "code",
      "execution_count": null,
      "metadata": {
        "id": "QvU4g_wPbQNI"
      },
      "outputs": [],
      "source": [
        "# create 1D conv model to process sequences \n",
        "inputs = layers.Input(shape=(1,), dtype=tf.string)\n",
        "text_vectors = text_vectorizer(inputs)\n",
        "token_embeddings = token_embed(text_vectors)\n",
        "x = layers.Conv1D(64, kernel_size=5, padding=\"same\", activation=\"relu\")(token_embeddings)\n",
        "x = layers.GlobalAveragePooling1D()(x)\n",
        "outputs = layers.Dense(num_classes, activation=\"softmax\")(x)\n",
        "model_1 = tf.keras.Model(inputs, outputs)\n",
        "\n",
        "# compile\n",
        "model_1.compile(loss=\"categorical_crossentropy\",\n",
        "                optimizer=tf.keras.optimizers.Adam(),\n",
        "                metrics=[\"accuracy\"])"
      ]
    },
    {
      "cell_type": "code",
      "execution_count": null,
      "metadata": {
        "colab": {
          "base_uri": "https://localhost:8080/"
        },
        "id": "INwOseWnd0YJ",
        "outputId": "55ba7a9f-149c-423a-cccb-22f161a0de4d"
      },
      "outputs": [
        {
          "name": "stdout",
          "output_type": "stream",
          "text": [
            "Model: \"model_13\"\n",
            "_________________________________________________________________\n",
            " Layer (type)                Output Shape              Param #   \n",
            "=================================================================\n",
            " input_4 (InputLayer)        [(None, 1)]               0         \n",
            "                                                                 \n",
            " text_vectorization (TextVec  (None, 55)               0         \n",
            " torization)                                                     \n",
            "                                                                 \n",
            " token_embedding (Embedding)  (None, 55, 128)          8299648   \n",
            "                                                                 \n",
            " conv1d_2 (Conv1D)           (None, 55, 64)            41024     \n",
            "                                                                 \n",
            " global_average_pooling1d_1   (None, 64)               0         \n",
            " (GlobalAveragePooling1D)                                        \n",
            "                                                                 \n",
            " dense_15 (Dense)            (None, 5)                 325       \n",
            "                                                                 \n",
            "=================================================================\n",
            "Total params: 8,340,997\n",
            "Trainable params: 8,340,997\n",
            "Non-trainable params: 0\n",
            "_________________________________________________________________\n"
          ]
        }
      ],
      "source": [
        "model_1.summary()"
      ]
    },
    {
      "cell_type": "code",
      "execution_count": null,
      "metadata": {
        "colab": {
          "base_uri": "https://localhost:8080/"
        },
        "id": "zbSK09VKgtIN",
        "outputId": "e50326a3-9ee4-40fc-f30e-870cff0b3f97"
      },
      "outputs": [
        {
          "data": {
            "text/plain": [
              "<PrefetchDataset element_spec=(TensorSpec(shape=(None,), dtype=tf.string, name=None), TensorSpec(shape=(None, 5), dtype=tf.float64, name=None))>"
            ]
          },
          "execution_count": 180,
          "metadata": {},
          "output_type": "execute_result"
        }
      ],
      "source": [
        "train_dataset"
      ]
    },
    {
      "cell_type": "code",
      "execution_count": null,
      "metadata": {
        "colab": {
          "base_uri": "https://localhost:8080/"
        },
        "id": "VATIiTGUhMNN",
        "outputId": "a73edaee-597e-4433-cc37-a948ff29829b"
      },
      "outputs": [
        {
          "data": {
            "text/plain": [
              "5627"
            ]
          },
          "execution_count": 181,
          "metadata": {},
          "output_type": "execute_result"
        }
      ],
      "source": [
        "len(train_dataset)"
      ]
    },
    {
      "cell_type": "code",
      "execution_count": null,
      "metadata": {
        "colab": {
          "base_uri": "https://localhost:8080/"
        },
        "id": "lP2F_JPDhRD1",
        "outputId": "a22e2f57-c6bf-4231-9d86-783b0c389e01"
      },
      "outputs": [
        {
          "data": {
            "text/plain": [
              "180064"
            ]
          },
          "execution_count": 182,
          "metadata": {},
          "output_type": "execute_result"
        }
      ],
      "source": [
        "5627*32"
      ]
    },
    {
      "cell_type": "code",
      "execution_count": null,
      "metadata": {
        "colab": {
          "base_uri": "https://localhost:8080/"
        },
        "id": "AU38FXLjeCSR",
        "outputId": "2fdf72f8-f2d9-4807-bd11-3403ac0c0454"
      },
      "outputs": [
        {
          "name": "stdout",
          "output_type": "stream",
          "text": [
            "Epoch 1/3\n",
            "562/562 [==============================] - 22s 37ms/step - loss: 0.9180 - accuracy: 0.6373 - val_loss: 0.6865 - val_accuracy: 0.7360\n",
            "Epoch 2/3\n",
            "562/562 [==============================] - 6s 10ms/step - loss: 0.6607 - accuracy: 0.7536 - val_loss: 0.6354 - val_accuracy: 0.7703\n",
            "Epoch 3/3\n",
            "562/562 [==============================] - 5s 9ms/step - loss: 0.6203 - accuracy: 0.7737 - val_loss: 0.5974 - val_accuracy: 0.7806\n"
          ]
        }
      ],
      "source": [
        "# fit the model \n",
        "history_model_1 = model_1.fit(train_dataset,\n",
        "                              steps_per_epoch=int(0.1*len(train_dataset)),\n",
        "                              epochs=3,\n",
        "                              validation_data=valid_dataset,\n",
        "                              validation_steps=int(0.1*len(valid_dataset))) # only 10% data we're fitting"
      ]
    },
    {
      "cell_type": "code",
      "execution_count": null,
      "metadata": {
        "colab": {
          "base_uri": "https://localhost:8080/"
        },
        "id": "uOXTOcV6h6AW",
        "outputId": "f742721a-66a1-4c35-825b-a8e8534693b4"
      },
      "outputs": [
        {
          "name": "stdout",
          "output_type": "stream",
          "text": [
            "945/945 [==============================] - 3s 3ms/step - loss: 0.6002 - accuracy: 0.7858\n"
          ]
        },
        {
          "data": {
            "text/plain": [
              "[0.6002498269081116, 0.785813570022583]"
            ]
          },
          "execution_count": 184,
          "metadata": {},
          "output_type": "execute_result"
        }
      ],
      "source": [
        "# evaluate on whole validation dataset\n",
        "model_1.evaluate(valid_dataset)"
      ]
    },
    {
      "cell_type": "code",
      "execution_count": null,
      "metadata": {
        "colab": {
          "base_uri": "https://localhost:8080/"
        },
        "id": "rE6RsLUBiumh",
        "outputId": "eba31e6c-b8bd-4849-b6cc-91d25d81159f"
      },
      "outputs": [
        {
          "name": "stdout",
          "output_type": "stream",
          "text": [
            "945/945 [==============================] - 2s 2ms/step\n"
          ]
        },
        {
          "data": {
            "text/plain": [
              "(array([[4.2983112e-01, 1.6752006e-01, 8.8078886e-02, 2.8344977e-01,\n",
              "         3.1120254e-02],\n",
              "        [4.3048108e-01, 2.6763126e-01, 1.1870126e-02, 2.8142869e-01,\n",
              "         8.5888356e-03],\n",
              "        [1.4160040e-01, 6.5498352e-03, 1.9861769e-03, 8.4981567e-01,\n",
              "         4.7951431e-05],\n",
              "        ...,\n",
              "        [4.6767937e-06, 6.7947869e-04, 6.8605511e-04, 3.1472018e-06,\n",
              "         9.9862671e-01],\n",
              "        [5.9018828e-02, 4.6410322e-01, 9.4440453e-02, 7.7438384e-02,\n",
              "         3.0499905e-01],\n",
              "        [1.8290985e-01, 6.4753181e-01, 4.5139607e-02, 5.2160494e-02,\n",
              "         7.2258219e-02]], dtype=float32), (30212, 5))"
            ]
          },
          "execution_count": 185,
          "metadata": {},
          "output_type": "execute_result"
        }
      ],
      "source": [
        "# make predictions\n",
        "model_1_pred_probs = model_1.predict(valid_dataset)\n",
        "model_1_pred_probs, model_1_pred_probs.shape"
      ]
    },
    {
      "cell_type": "code",
      "execution_count": null,
      "metadata": {
        "colab": {
          "base_uri": "https://localhost:8080/"
        },
        "id": "zEyUfxTSjA3v",
        "outputId": "6ed66a6e-669b-4063-beb8-67f0d72c11d7"
      },
      "outputs": [
        {
          "data": {
            "text/plain": [
              "<tf.Tensor: shape=(30212,), dtype=int64, numpy=array([0, 0, 3, ..., 4, 1, 1])>"
            ]
          },
          "execution_count": 186,
          "metadata": {},
          "output_type": "execute_result"
        }
      ],
      "source": [
        "# convert pred probs to classes\n",
        "model_1_preds = tf.argmax(model_1_pred_probs, axis=1)\n",
        "model_1_preds"
      ]
    },
    {
      "cell_type": "code",
      "execution_count": null,
      "metadata": {
        "colab": {
          "base_uri": "https://localhost:8080/"
        },
        "id": "Z95VqgWEjtS9",
        "outputId": "7d08dc22-6921-43e2-9f34-1d4f0ade6445"
      },
      "outputs": [
        {
          "data": {
            "text/plain": [
              "array(['BACKGROUND', 'CONCLUSIONS', 'METHODS', 'OBJECTIVE', 'RESULTS'],\n",
              "      dtype=object)"
            ]
          },
          "execution_count": 187,
          "metadata": {},
          "output_type": "execute_result"
        }
      ],
      "source": [
        "class_names"
      ]
    },
    {
      "cell_type": "code",
      "execution_count": null,
      "metadata": {
        "colab": {
          "base_uri": "https://localhost:8080/"
        },
        "id": "9qZpgYuej0fT",
        "outputId": "f1a4702d-e52b-43e9-a4bb-4cf760bc4bb6"
      },
      "outputs": [
        {
          "data": {
            "text/plain": [
              "{'accuracy': 78.58135840063551,\n",
              " 'precision': 0.782750672344357,\n",
              " 'recall': 0.785813584006355,\n",
              " 'f1': 0.7836529439223097}"
            ]
          },
          "execution_count": 188,
          "metadata": {},
          "output_type": "execute_result"
        }
      ],
      "source": [
        "# calculate model_1 results\n",
        "model_1_results = calculate_results(y_true=val_labels_encoded,\n",
        "                                    y_pred=model_1_preds)\n",
        "model_1_results"
      ]
    },
    {
      "cell_type": "code",
      "execution_count": null,
      "metadata": {
        "colab": {
          "base_uri": "https://localhost:8080/"
        },
        "id": "e3uooiuGkH1w",
        "outputId": "f417d8b5-f48c-4ce1-ac9a-9aab28dbb9a7"
      },
      "outputs": [
        {
          "data": {
            "text/plain": [
              "{'accuracy': 72.1832384482987,\n",
              " 'precision': 0.7186466952323352,\n",
              " 'recall': 0.7218323844829869,\n",
              " 'f1': 0.6989250353450294}"
            ]
          },
          "execution_count": 189,
          "metadata": {},
          "output_type": "execute_result"
        }
      ],
      "source": [
        "baseline_results"
      ]
    },
    {
      "cell_type": "markdown",
      "metadata": {
        "id": "ZhFI2MyKkN1B"
      },
      "source": [
        "## Model 2: Feature extraction with pretraintedtoken embeddings\n",
        "\n",
        "Now lets pretrained word embeddings from TensorFlow Hub, more specifically the universal senetnce encoder(USE):\n",
        "https://tfhub.dev/google/universal-sentence-encoder/4\n",
        "\n",
        "The paper originalyy used GloVe embeddings, however, we're going to stick with the later created USE pretrained embeddings"
      ]
    },
    {
      "cell_type": "markdown",
      "metadata": {
        "id": "LsmISuijsG71"
      },
      "source": [
        "### USE (Universal Sentence Encoder)"
      ]
    },
    {
      "cell_type": "code",
      "execution_count": null,
      "metadata": {
        "id": "jJ3XvNwSpoy8"
      },
      "outputs": [],
      "source": [
        "# download pretrained TensorFlow Hub USE\n",
        "import tensorflow_hub as hub\n",
        "tf_hub_embedding_layer = hub.KerasLayer(\"https://tfhub.dev/google/universal-sentence-encoder/4\",\n",
        "                                        trainable=False,\n",
        "                                        name=\"universal_sentence_encoder\")"
      ]
    },
    {
      "cell_type": "code",
      "execution_count": null,
      "metadata": {
        "colab": {
          "base_uri": "https://localhost:8080/"
        },
        "id": "gr7tQucuqZIM",
        "outputId": "57ab3f42-c21c-4506-e4ed-5919c0b283bb"
      },
      "outputs": [
        {
          "name": "stdout",
          "output_type": "stream",
          "text": [
            "Random Sentence\n",
            " at postoperative @ day , the mean subjective pain score in the lasek group was @ @ and @ @ in t-prk group ( p = @ ) .\n",
            "Senetence after embedding:\n",
            " [-0.01897516 -0.03970673  0.06986898 -0.01593516  0.03694129  0.04246538\n",
            " -0.04577946  0.02787056 -0.02121572  0.00583505]\n",
            "Length of senetnce embedding: 512\n"
          ]
        }
      ],
      "source": [
        "# test out the pretrained embedding on a random sentence\n",
        "random_train_sentence = random.choice(train_sentences)\n",
        "print(f\"Random Sentence\\n {random_train_sentence}\")\n",
        "use_embedding_sentence = tf_hub_embedding_layer([random_train_sentence])\n",
        "print(f\"Senetence after embedding:\\n {use_embedding_sentence[0][:10]}\")\n",
        "print(f\"Length of senetnce embedding: {len(use_embedding_sentence[0])}\")"
      ]
    },
    {
      "cell_type": "markdown",
      "metadata": {
        "id": "PwCcMLnBrNjh"
      },
      "source": [
        "### Building and fitting an NLP feature extraction model using pretrained embeddings Tensorflow Hub"
      ]
    },
    {
      "cell_type": "code",
      "execution_count": null,
      "metadata": {
        "id": "r_94JiGU0H_r"
      },
      "outputs": [],
      "source": [
        "# Define feature extarction model using TF Hub layers\n",
        "inputs = layers.Input(shape=[], dtype=tf.string)\n",
        "pretrained_embedding = tf_hub_embedding_layer(inputs)\n",
        "x = layers.Dense(128, activation=\"relu\")(pretrained_embedding)\n",
        "# Note: you could ass more layers here if you want\n",
        "outputs = layers.Dense(num_classes, activation=\"softmax\")(x)\n",
        "model_2 = tf.keras.Model(inputs=inputs,\n",
        "                         outputs=outputs, \n",
        "                         name=\"model_2_USE_feature_extarctor\")\n",
        "\n",
        "model_2.compile(loss=\"categorical_crossentropy\",\n",
        "                optimizer=tf.keras.optimizers.Adam(),\n",
        "                metrics=['accuracy'])"
      ]
    },
    {
      "cell_type": "code",
      "execution_count": null,
      "metadata": {
        "colab": {
          "base_uri": "https://localhost:8080/"
        },
        "id": "Ll1iQbhx1x7_",
        "outputId": "a4a2122d-de11-4c7b-d244-7ce14ecbc942"
      },
      "outputs": [
        {
          "name": "stdout",
          "output_type": "stream",
          "text": [
            "Model: \"model_2_USE_feature_extarctor\"\n",
            "_________________________________________________________________\n",
            " Layer (type)                Output Shape              Param #   \n",
            "=================================================================\n",
            " input_5 (InputLayer)        [(None,)]                 0         \n",
            "                                                                 \n",
            " universal_sentence_encoder   (None, 512)              256797824 \n",
            " (KerasLayer)                                                    \n",
            "                                                                 \n",
            " dense_16 (Dense)            (None, 128)               65664     \n",
            "                                                                 \n",
            " dense_17 (Dense)            (None, 5)                 645       \n",
            "                                                                 \n",
            "=================================================================\n",
            "Total params: 256,864,133\n",
            "Trainable params: 66,309\n",
            "Non-trainable params: 256,797,824\n",
            "_________________________________________________________________\n"
          ]
        }
      ],
      "source": [
        "model_2.summary()"
      ]
    },
    {
      "cell_type": "code",
      "execution_count": null,
      "metadata": {
        "colab": {
          "base_uri": "https://localhost:8080/"
        },
        "id": "ynFlsL1a2V97",
        "outputId": "5ce55b9d-ce1a-4f71-9d1c-99b68f2397db"
      },
      "outputs": [
        {
          "data": {
            "text/plain": [
              "<PrefetchDataset element_spec=(TensorSpec(shape=(None,), dtype=tf.string, name=None), TensorSpec(shape=(None, 5), dtype=tf.float64, name=None))>"
            ]
          },
          "execution_count": 194,
          "metadata": {},
          "output_type": "execute_result"
        }
      ],
      "source": [
        "train_dataset"
      ]
    },
    {
      "cell_type": "code",
      "execution_count": null,
      "metadata": {
        "colab": {
          "base_uri": "https://localhost:8080/"
        },
        "id": "tQDeoXic2CHW",
        "outputId": "6e98ba71-1e18-477a-8afd-3730e4defaae"
      },
      "outputs": [
        {
          "name": "stdout",
          "output_type": "stream",
          "text": [
            "Epoch 1/3\n",
            "562/562 [==============================] - 10s 14ms/step - loss: 0.9164 - accuracy: 0.6491 - val_loss: 0.7987 - val_accuracy: 0.6872\n",
            "Epoch 2/3\n",
            "562/562 [==============================] - 7s 12ms/step - loss: 0.7705 - accuracy: 0.7008 - val_loss: 0.7578 - val_accuracy: 0.7061\n",
            "Epoch 3/3\n",
            "562/562 [==============================] - 8s 13ms/step - loss: 0.7550 - accuracy: 0.7115 - val_loss: 0.7429 - val_accuracy: 0.7111\n"
          ]
        }
      ],
      "source": [
        "# fit model_2 to the data\n",
        "history_model_2 = model_2.fit(train_dataset,\n",
        "                              epochs=3,\n",
        "                              steps_per_epoch=int(0.1*len(train_dataset)),\n",
        "                              validation_data=valid_dataset,\n",
        "                              validation_steps=int(0.1*len(valid_dataset)))"
      ]
    },
    {
      "cell_type": "code",
      "execution_count": null,
      "metadata": {
        "colab": {
          "base_uri": "https://localhost:8080/"
        },
        "id": "kmIRTXyX2uI2",
        "outputId": "462064a4-a383-43f7-de59-917c04c97a6a"
      },
      "outputs": [
        {
          "name": "stdout",
          "output_type": "stream",
          "text": [
            "945/945 [==============================] - 10s 11ms/step - loss: 0.7441 - accuracy: 0.7119\n"
          ]
        },
        {
          "data": {
            "text/plain": [
              "[0.7441499829292297, 0.7119025588035583]"
            ]
          },
          "execution_count": 196,
          "metadata": {},
          "output_type": "execute_result"
        }
      ],
      "source": [
        "# evaluate on whole validation dataset\n",
        "model_2.evaluate(valid_dataset)"
      ]
    },
    {
      "cell_type": "code",
      "execution_count": null,
      "metadata": {
        "colab": {
          "base_uri": "https://localhost:8080/"
        },
        "id": "6hwOIzQg3EQZ",
        "outputId": "384a575f-101c-4767-d628-0d8db2aa4fa9"
      },
      "outputs": [
        {
          "name": "stdout",
          "output_type": "stream",
          "text": [
            "945/945 [==============================] - 10s 10ms/step\n"
          ]
        },
        {
          "data": {
            "text/plain": [
              "array([[0.43377888, 0.37336078, 0.0033406 , 0.17929919, 0.01022062],\n",
              "       [0.3396733 , 0.506762  , 0.00510137, 0.1445207 , 0.00394259],\n",
              "       [0.22466749, 0.14928862, 0.01878299, 0.5689832 , 0.03827773],\n",
              "       ...,\n",
              "       [0.00194475, 0.00524373, 0.05788098, 0.00101515, 0.9339154 ],\n",
              "       [0.00389561, 0.04808702, 0.20048116, 0.00177042, 0.7457658 ],\n",
              "       [0.17769536, 0.24742201, 0.5057511 , 0.00716125, 0.06197031]],\n",
              "      dtype=float32)"
            ]
          },
          "execution_count": 197,
          "metadata": {},
          "output_type": "execute_result"
        }
      ],
      "source": [
        "# make predictions with feature extarction model\n",
        "model_2_pred_probs = model_2.predict(valid_dataset)\n",
        "model_2_pred_probs"
      ]
    },
    {
      "cell_type": "code",
      "execution_count": null,
      "metadata": {
        "colab": {
          "base_uri": "https://localhost:8080/"
        },
        "id": "ttFgCCmy3VC_",
        "outputId": "98f8f9f5-6203-471a-f968-c575b9bf981b"
      },
      "outputs": [
        {
          "data": {
            "text/plain": [
              "<tf.Tensor: shape=(30212,), dtype=int64, numpy=array([0, 1, 3, ..., 4, 4, 2])>"
            ]
          },
          "execution_count": 198,
          "metadata": {},
          "output_type": "execute_result"
        }
      ],
      "source": [
        "# convert the prediction probabilities found with feature extraction model to label\n",
        "model_2_preds = tf.argmax(model_2_pred_probs, axis=1)\n",
        "model_2_preds"
      ]
    },
    {
      "cell_type": "code",
      "execution_count": null,
      "metadata": {
        "colab": {
          "base_uri": "https://localhost:8080/"
        },
        "id": "1z3nSJHL3sE8",
        "outputId": "950fbf27-db4f-4da3-e6fb-fc0d084800cb"
      },
      "outputs": [
        {
          "data": {
            "text/plain": [
              "{'accuracy': 71.19025552760493,\n",
              " 'precision': 0.7127440055388621,\n",
              " 'recall': 0.7119025552760493,\n",
              " 'f1': 0.709268403690842}"
            ]
          },
          "execution_count": 199,
          "metadata": {},
          "output_type": "execute_result"
        }
      ],
      "source": [
        "# calculate results\n",
        "model_2_results = calculate_results(y_true=val_labels_encoded,\n",
        "                                    y_pred=model_2_preds)\n",
        "model_2_results"
      ]
    },
    {
      "cell_type": "markdown",
      "metadata": {
        "id": "I_FfZ7iL4GeO"
      },
      "source": [
        "## Model 3: Conv1D with character embedding\n",
        "\n",
        "The paper which we're replicating states they used a combination of token and characters-level embedding\n",
        "\n",
        "Previously we've token-level embeddings but we'll need to do similar steps for characters if we want to use char-level embedding"
      ]
    },
    {
      "cell_type": "code",
      "execution_count": null,
      "metadata": {
        "colab": {
          "base_uri": "https://localhost:8080/"
        },
        "id": "Qo2OBe4JJUxq",
        "outputId": "7224bfc9-1a83-4ed6-f135-0c50554fa6de"
      },
      "outputs": [
        {
          "data": {
            "text/plain": [
              "['to investigate the efficacy of @ weeks of daily low-dose oral prednisolone in improving pain , mobility , and systemic low-grade inflammation in the short term and whether the effect would be sustained at @ weeks in older adults with moderate to severe knee osteoarthritis ( oa ) .',\n",
              " 'a total of @ patients with primary knee oa were randomized @:@ ; @ received @ mg/day of prednisolone and @ received placebo for @ weeks .',\n",
              " 'outcome measures included pain reduction and improvement in function scores and systemic inflammation markers .',\n",
              " 'pain was assessed using the visual analog pain scale ( @-@ mm ) .',\n",
              " 'secondary outcome measures included the western ontario and mcmaster universities osteoarthritis index scores , patient global assessment ( pga ) of the severity of knee oa , and @-min walk distance ( @mwd ) .']"
            ]
          },
          "execution_count": 200,
          "metadata": {},
          "output_type": "execute_result"
        }
      ],
      "source": [
        "train_sentences[:5]"
      ]
    },
    {
      "cell_type": "code",
      "execution_count": null,
      "metadata": {
        "colab": {
          "base_uri": "https://localhost:8080/",
          "height": 70
        },
        "id": "MfQ79EJtKW_w",
        "outputId": "786b5f97-54d8-4cca-d1aa-c6aa03e7a002"
      },
      "outputs": [
        {
          "data": {
            "application/vnd.google.colaboratory.intrinsic+json": {
              "type": "string"
            },
            "text/plain": [
              "'a t   p o s t o p e r a t i v e   @   d a y   ,   t h e   m e a n   s u b j e c t i v e   p a i n   s c o r e   i n   t h e   l a s e k   g r o u p   w a s   @   @   a n d   @   @   i n   t - p r k   g r o u p   (   p   =   @   )   .'"
            ]
          },
          "execution_count": 201,
          "metadata": {},
          "output_type": "execute_result"
        }
      ],
      "source": [
        "# make function to split sentences into characters\n",
        "def split_char(text):\n",
        "  return \" \".join(list(text))\n",
        "\n",
        "# text splitting non-charcter-level sequence into chracters\n",
        "split_char(random_train_sentence)"
      ]
    },
    {
      "cell_type": "code",
      "execution_count": null,
      "metadata": {
        "colab": {
          "base_uri": "https://localhost:8080/"
        },
        "id": "ceeVFUxCKz_w",
        "outputId": "aa5499c6-8755-4139-9c7e-c0fce5459072"
      },
      "outputs": [
        {
          "data": {
            "text/plain": [
              "['t o   i n v e s t i g a t e   t h e   e f f i c a c y   o f   @   w e e k s   o f   d a i l y   l o w - d o s e   o r a l   p r e d n i s o l o n e   i n   i m p r o v i n g   p a i n   ,   m o b i l i t y   ,   a n d   s y s t e m i c   l o w - g r a d e   i n f l a m m a t i o n   i n   t h e   s h o r t   t e r m   a n d   w h e t h e r   t h e   e f f e c t   w o u l d   b e   s u s t a i n e d   a t   @   w e e k s   i n   o l d e r   a d u l t s   w i t h   m o d e r a t e   t o   s e v e r e   k n e e   o s t e o a r t h r i t i s   (   o a   )   .',\n",
              " 'a   t o t a l   o f   @   p a t i e n t s   w i t h   p r i m a r y   k n e e   o a   w e r e   r a n d o m i z e d   @ : @   ;   @   r e c e i v e d   @   m g / d a y   o f   p r e d n i s o l o n e   a n d   @   r e c e i v e d   p l a c e b o   f o r   @   w e e k s   .',\n",
              " 'o u t c o m e   m e a s u r e s   i n c l u d e d   p a i n   r e d u c t i o n   a n d   i m p r o v e m e n t   i n   f u n c t i o n   s c o r e s   a n d   s y s t e m i c   i n f l a m m a t i o n   m a r k e r s   .',\n",
              " 'p a i n   w a s   a s s e s s e d   u s i n g   t h e   v i s u a l   a n a l o g   p a i n   s c a l e   (   @ - @   m m   )   .',\n",
              " 's e c o n d a r y   o u t c o m e   m e a s u r e s   i n c l u d e d   t h e   w e s t e r n   o n t a r i o   a n d   m c m a s t e r   u n i v e r s i t i e s   o s t e o a r t h r i t i s   i n d e x   s c o r e s   ,   p a t i e n t   g l o b a l   a s s e s s m e n t   (   p g a   )   o f   t h e   s e v e r i t y   o f   k n e e   o a   ,   a n d   @ - m i n   w a l k   d i s t a n c e   (   @ m w d   )   .']"
            ]
          },
          "execution_count": 202,
          "metadata": {},
          "output_type": "execute_result"
        }
      ],
      "source": [
        "# split sequence-level data split into charcter-level data split\n",
        "train_char = [split_char(sentence) for sentence in train_sentences]\n",
        "val_char = [split_char(sentence) for sentence in val_sentences]\n",
        "test_char = [split_char(sentence) for sentence in test_sentences]\n",
        "\n",
        "train_char[:5]"
      ]
    },
    {
      "cell_type": "code",
      "execution_count": null,
      "metadata": {
        "colab": {
          "base_uri": "https://localhost:8080/"
        },
        "id": "3GGzHDSnLepT",
        "outputId": "ccc05417-f827-4f54-babd-d5d216192844"
      },
      "outputs": [
        {
          "data": {
            "text/plain": [
              "149.3662574983337"
            ]
          },
          "execution_count": 203,
          "metadata": {},
          "output_type": "execute_result"
        }
      ],
      "source": [
        "# what's the average character lenght?\n",
        "char_lens = [len(sentence) for sentence in train_sentences]\n",
        "mean_char_len = np.mean(char_lens)\n",
        "mean_char_len"
      ]
    },
    {
      "cell_type": "code",
      "execution_count": null,
      "metadata": {
        "colab": {
          "base_uri": "https://localhost:8080/",
          "height": 352
        },
        "id": "592Vx_eHMCr-",
        "outputId": "f37dc1ce-3fc3-4e56-9838-3da60255442d"
      },
      "outputs": [
        {
          "data": {
            "text/plain": [
              "(array([1.41175e+05, 3.71110e+04, 1.60000e+03, 1.27000e+02, 2.10000e+01,\n",
              "        5.00000e+00, 1.00000e+00]),\n",
              " array([1.00000000e+00, 1.98857143e+02, 3.96714286e+02, 5.94571429e+02,\n",
              "        7.92428571e+02, 9.90285714e+02, 1.18814286e+03, 1.38600000e+03]),\n",
              " <BarContainer object of 7 artists>)"
            ]
          },
          "execution_count": 204,
          "metadata": {},
          "output_type": "execute_result"
        },
        {
          "data": {
            "image/png": "[encoded data removed]",
            "text/plain": [
              "<Figure size 432x288 with 1 Axes>"
            ]
          },
          "metadata": {},
          "output_type": "display_data"
        }
      ],
      "source": [
        "# check the distribution of our sequences at a character-level\n",
        "import matplotlib.pyplot as plt\n",
        "plt.hist(char_lens, bins=7)"
      ]
    },
    {
      "cell_type": "code",
      "execution_count": null,
      "metadata": {
        "colab": {
          "base_uri": "https://localhost:8080/"
        },
        "id": "ryheav6vMs2j",
        "outputId": "a89e45ed-7573-4a13-bc55-13adc2fe1c56"
      },
      "outputs": [
        {
          "data": {
            "text/plain": [
              "290"
            ]
          },
          "execution_count": 205,
          "metadata": {},
          "output_type": "execute_result"
        }
      ],
      "source": [
        "# find what character lengh covers 95% of sequences\n",
        "output_seq_char_len = int(np.percentile(char_lens, 95))\n",
        "output_seq_char_len"
      ]
    },
    {
      "cell_type": "code",
      "execution_count": null,
      "metadata": {
        "colab": {
          "base_uri": "https://localhost:8080/"
        },
        "id": "TwIO0LIeNsay",
        "outputId": "51dc96f7-21e6-44c2-a8a7-da90a5d2784b"
      },
      "outputs": [
        {
          "data": {
            "text/plain": [
              "('abcdefghijklmnopqrstuvwxyz0123456789!\"#$%&\\'()*+,-./:;<=>?@[\\\\]^_`{|}~', 68)"
            ]
          },
          "execution_count": 206,
          "metadata": {},
          "output_type": "execute_result"
        }
      ],
      "source": [
        "# get all keyword charcters \n",
        "import string \n",
        "alphabet = string.ascii_lowercase + string.digits + string.punctuation\n",
        "alphabet, len(alphabet)"
      ]
    },
    {
      "cell_type": "code",
      "execution_count": null,
      "metadata": {
        "id": "kXCQWb5JOuOk"
      },
      "outputs": [],
      "source": [
        "# create char-level token vectorizer instance\n",
        "NUM_CHAR_TOKENS = len(alphabet) + 2 # add for space and ovv(out od vacb)\n",
        "char_vectorizer = TextVectorization(max_tokens=NUM_CHAR_TOKENS,\n",
        "                                    output_sequence_length=output_seq_char_len,\n",
        "                                    name=\"char_vectorizer\")"
      ]
    },
    {
      "cell_type": "code",
      "execution_count": null,
      "metadata": {
        "id": "CDV57ue8P5DB"
      },
      "outputs": [],
      "source": [
        "# adapt character vectorizer to training  character\n",
        "char_vectorizer.adapt(train_char)"
      ]
    },
    {
      "cell_type": "code",
      "execution_count": null,
      "metadata": {
        "colab": {
          "base_uri": "https://localhost:8080/"
        },
        "id": "6UbEM1FoQFGF",
        "outputId": "02de7018-02cf-476c-a0b2-e6f1884875ff"
      },
      "outputs": [
        {
          "name": "stdout",
          "output_type": "stream",
          "text": [
            "Number of different characters in character vocab: 28\n",
            "5 Most common characters: ['', '[UNK]', 'e', 't', 'i']\n",
            "5 least common characters: ['k', 'x', 'z', 'q', 'j']\n"
          ]
        }
      ],
      "source": [
        "# check character vocab stats \n",
        "char_vocab = char_vectorizer.get_vocabulary()\n",
        "print(f\"Number of different characters in character vocab: {len(char_vocab)}\")\n",
        "print(f\"5 Most common characters: {char_vocab[:5]}\")\n",
        "print(f\"5 least common characters: {char_vocab[-5:]}\")"
      ]
    },
    {
      "cell_type": "code",
      "execution_count": null,
      "metadata": {
        "colab": {
          "base_uri": "https://localhost:8080/"
        },
        "id": "Ml05gXv1Q65s",
        "outputId": "35d48b7c-e52a-4af8-df4d-afbcdcbf8e73"
      },
      "outputs": [
        {
          "name": "stdout",
          "output_type": "stream",
          "text": [
            "Charified text\n",
            " t h e   p r i m a r y   e n d p o i n t   w a s   i n f a r c t   v o l u m e   o n   m r i   a t   @   d a y s   .\n",
            "\n",
            "Length of random_train_chars: 115\n",
            "\n",
            "Vectorized chars:\n",
            " [[ 3 13  2 14  8  4 15  5  8 19  2  6 10 14  7  4  6  3 20  5  9  4  6 17\n",
            "   5  8 11  3 21  7 12 16 15  2  7  6 15  8  4  5  3 10  5 19  9  0  0  0\n",
            "   0  0  0  0  0  0  0  0  0  0  0  0  0  0  0  0  0  0  0  0  0  0  0  0\n",
            "   0  0  0  0  0  0  0  0  0  0  0  0  0  0  0  0  0  0  0  0  0  0  0  0\n",
            "   0  0  0  0  0  0  0  0  0  0  0  0  0  0  0  0  0  0  0  0  0  0  0  0\n",
            "   0  0  0  0  0  0  0  0  0  0  0  0  0  0  0  0  0  0  0  0  0  0  0  0\n",
            "   0  0  0  0  0  0  0  0  0  0  0  0  0  0  0  0  0  0  0  0  0  0  0  0\n",
            "   0  0  0  0  0  0  0  0  0  0  0  0  0  0  0  0  0  0  0  0  0  0  0  0\n",
            "   0  0  0  0  0  0  0  0  0  0  0  0  0  0  0  0  0  0  0  0  0  0  0  0\n",
            "   0  0  0  0  0  0  0  0  0  0  0  0  0  0  0  0  0  0  0  0  0  0  0  0\n",
            "   0  0  0  0  0  0  0  0  0  0  0  0  0  0  0  0  0  0  0  0  0  0  0  0\n",
            "   0  0  0  0  0  0  0  0  0  0  0  0  0  0  0  0  0  0  0  0  0  0  0  0\n",
            "   0  0]]\n",
            "\n",
            "Length of vectorized chars: 1\n"
          ]
        }
      ],
      "source": [
        "# Test out charcters vectorizer\n",
        "random_train_chars = random.choice(train_char)\n",
        "print(f\"Charified text\\n {random_train_chars}\")\n",
        "print(f\"\\nLength of random_train_chars: {len(random_train_chars)}\")\n",
        "vectorized_chars = char_vectorizer([random_train_chars])\n",
        "print(f\"\\nVectorized chars:\\n {vectorized_chars}\")\n",
        "print(f\"\\nLength of vectorized chars: {len(vectorized_chars)}\")"
      ]
    },
    {
      "cell_type": "markdown",
      "metadata": {
        "id": "tZ2m_-irSnG2"
      },
      "source": [
        "\n",
        "\n",
        "### Creating a character-level embedding\n",
        "\n",
        "- Why we are using character-level embedding?\n",
        "Actually we're trying to implement fig-1 from this paper https://arxiv.org/pdf/1612.05251.pdf \n"
      ]
    },
    {
      "cell_type": "code",
      "execution_count": null,
      "metadata": {
        "id": "xtxawId46cWx"
      },
      "outputs": [],
      "source": [
        "# create a character-level embedding layer\n",
        "char_embed = layers.Embedding(input_dim=len(char_vocab), # no of differnt character\n",
        "                              output_dim=25, # character embeddings (25),from paper\n",
        "                              mask_zero=True,\n",
        "                              name=\"char_embed\")"
      ]
    },
    {
      "cell_type": "code",
      "execution_count": null,
      "metadata": {
        "colab": {
          "base_uri": "https://localhost:8080/"
        },
        "id": "sfdxIS3P8_3l",
        "outputId": "7110d620-6ea0-4b5e-fd2b-299f93473f12"
      },
      "outputs": [
        {
          "name": "stdout",
          "output_type": "stream",
          "text": [
            "charified text:\n",
            " t h e   p r i m a r y   e n d p o i n t   w a s   i n f a r c t   v o l u m e   o n   m r i   a t   @   d a y s   .\n",
            "Embeded chars (after vectorizer and embedding):\n",
            " [[[ 0.01498527 -0.02451283  0.0197187  ... -0.02910572  0.01953833\n",
            "    0.01646556]\n",
            "  [ 0.00947306  0.00410401  0.04781404 ... -0.02638255  0.03737655\n",
            "   -0.00144106]\n",
            "  [ 0.04536526 -0.0108813   0.04185728 ...  0.00658875 -0.03482383\n",
            "   -0.04943947]\n",
            "  ...\n",
            "  [-0.00703483 -0.01074599  0.03115053 ...  0.01519532 -0.0407163\n",
            "   -0.03547726]\n",
            "  [-0.00703483 -0.01074599  0.03115053 ...  0.01519532 -0.0407163\n",
            "   -0.03547726]\n",
            "  [-0.00703483 -0.01074599  0.03115053 ...  0.01519532 -0.0407163\n",
            "   -0.03547726]]]\n",
            "Character embedding shape: (1, 290, 25)\n"
          ]
        }
      ],
      "source": [
        "# test our character embedding layers\n",
        "print(f\"charified text:\\n {random_train_chars}\")\n",
        "char_embed_example = char_embed(char_vectorizer([random_train_chars]))\n",
        "print(f\"Embeded chars (after vectorizer and embedding):\\n {char_embed_example}\")\n",
        "print(f\"Character embedding shape: {char_embed_example.shape}\")"
      ]
    },
    {
      "cell_type": "markdown",
      "metadata": {
        "id": "sKQnEaS795vA"
      },
      "source": [
        "### Building a Conv1D model to fit on character embedding"
      ]
    },
    {
      "cell_type": "code",
      "execution_count": null,
      "metadata": {
        "id": "fTWKvPJy-xQ2"
      },
      "outputs": [],
      "source": [
        "from keras.layers.attention.multi_head_attention import activation\n",
        "# make Conv1D on chars only\n",
        "inputs = layers.Input(shape=(1,), dtype=\"string\")\n",
        "char_vectors = char_vectorizer(inputs)\n",
        "char_embedding = char_embed(char_vectors)\n",
        "x = layers.Conv1D(64, kernel_size=5, padding='same', activation='relu')(char_embedding)\n",
        "x = layers.GlobalMaxPooling1D()(x)\n",
        "outputs = layers.Dense(num_classes, activation=\"softmax\")(x)\n",
        "model_3 = tf.keras.Model(inputs=inputs,\n",
        "                         outputs=outputs,\n",
        "                         name=\"model_3_conv1d_char_embeddings\")\n",
        "\n",
        "# compile \n",
        "model_3.compile(loss=\"categorical_crossentropy\",\n",
        "                optimizer=tf.keras.optimizers.Adam(),\n",
        "                metrics=[\"accuracy\"])"
      ]
    },
    {
      "cell_type": "code",
      "execution_count": null,
      "metadata": {
        "colab": {
          "base_uri": "https://localhost:8080/"
        },
        "id": "A3nQkjDOCT7G",
        "outputId": "827862be-1ed5-447a-dedd-42b4644181e6"
      },
      "outputs": [
        {
          "name": "stdout",
          "output_type": "stream",
          "text": [
            "Model: \"model_3_conv1d_char_embeddings\"\n",
            "_________________________________________________________________\n",
            " Layer (type)                Output Shape              Param #   \n",
            "=================================================================\n",
            " input_6 (InputLayer)        [(None, 1)]               0         \n",
            "                                                                 \n",
            " char_vectorizer (TextVector  (None, 290)              0         \n",
            " ization)                                                        \n",
            "                                                                 \n",
            " char_embed (Embedding)      (None, 290, 25)           700       \n",
            "                                                                 \n",
            " conv1d_3 (Conv1D)           (None, 290, 64)           8064      \n",
            "                                                                 \n",
            " global_max_pooling1d_1 (Glo  (None, 64)               0         \n",
            " balMaxPooling1D)                                                \n",
            "                                                                 \n",
            " dense_18 (Dense)            (None, 5)                 325       \n",
            "                                                                 \n",
            "=================================================================\n",
            "Total params: 9,089\n",
            "Trainable params: 9,089\n",
            "Non-trainable params: 0\n",
            "_________________________________________________________________\n"
          ]
        }
      ],
      "source": [
        "# summary\n",
        "model_3.summary()"
      ]
    },
    {
      "cell_type": "code",
      "execution_count": null,
      "metadata": {
        "colab": {
          "base_uri": "https://localhost:8080/"
        },
        "id": "O-I7sOWXDJ-_",
        "outputId": "7565218a-32ac-48f6-b376-4275025cee99"
      },
      "outputs": [
        {
          "data": {
            "text/plain": [
              "(['t o   i n v e s t i g a t e   t h e   e f f i c a c y   o f   @   w e e k s   o f   d a i l y   l o w - d o s e   o r a l   p r e d n i s o l o n e   i n   i m p r o v i n g   p a i n   ,   m o b i l i t y   ,   a n d   s y s t e m i c   l o w - g r a d e   i n f l a m m a t i o n   i n   t h e   s h o r t   t e r m   a n d   w h e t h e r   t h e   e f f e c t   w o u l d   b e   s u s t a i n e d   a t   @   w e e k s   i n   o l d e r   a d u l t s   w i t h   m o d e r a t e   t o   s e v e r e   k n e e   o s t e o a r t h r i t i s   (   o a   )   .',\n",
              "  'a   t o t a l   o f   @   p a t i e n t s   w i t h   p r i m a r y   k n e e   o a   w e r e   r a n d o m i z e d   @ : @   ;   @   r e c e i v e d   @   m g / d a y   o f   p r e d n i s o l o n e   a n d   @   r e c e i v e d   p l a c e b o   f o r   @   w e e k s   .'],\n",
              " array([[0., 0., 0., 1., 0.],\n",
              "        [0., 0., 1., 0., 0.]]))"
            ]
          },
          "execution_count": 215,
          "metadata": {},
          "output_type": "execute_result"
        }
      ],
      "source": [
        "train_char[:2], train_lables_one_hot[:2]"
      ]
    },
    {
      "cell_type": "code",
      "execution_count": null,
      "metadata": {
        "colab": {
          "base_uri": "https://localhost:8080/"
        },
        "id": "z8LPMrytCcLs",
        "outputId": "5364d3d9-4373-4c8a-8911-bb3eace1cf87"
      },
      "outputs": [
        {
          "data": {
            "text/plain": [
              "<PrefetchDataset element_spec=(TensorSpec(shape=(None,), dtype=tf.string, name=None), TensorSpec(shape=(None, 5), dtype=tf.float64, name=None))>"
            ]
          },
          "execution_count": 216,
          "metadata": {},
          "output_type": "execute_result"
        }
      ],
      "source": [
        "# create char level datasets\n",
        "train_char_datasets = tf.data.Dataset.from_tensor_slices((train_char, train_lables_one_hot)).batch(32).prefetch(tf.data.AUTOTUNE)\n",
        "val_char_datasets = tf.data.Dataset.from_tensor_slices((val_char, val_labels_one_hot)).batch(32).prefetch(tf.data.AUTOTUNE)\n",
        "test_char_datasets = tf.data.Dataset.from_tensor_slices((test_char, test_labels_one_hot)).batch(32).prefetch(tf.data.AUTOTUNE)\n",
        "\n",
        "train_char_datasets"
      ]
    },
    {
      "cell_type": "code",
      "execution_count": null,
      "metadata": {
        "colab": {
          "base_uri": "https://localhost:8080/"
        },
        "id": "9Gn1VPJZElKo",
        "outputId": "a2f62877-d5c6-4da1-e041-8a37bcd6a654"
      },
      "outputs": [
        {
          "name": "stdout",
          "output_type": "stream",
          "text": [
            "Epoch 1/3\n",
            "562/562 [==============================] - 5s 7ms/step - loss: 1.2417 - accuracy: 0.5068 - val_loss: 1.0148 - val_accuracy: 0.6064\n",
            "Epoch 2/3\n",
            "562/562 [==============================] - 3s 5ms/step - loss: 0.9861 - accuracy: 0.6114 - val_loss: 0.9273 - val_accuracy: 0.6433\n",
            "Epoch 3/3\n",
            "562/562 [==============================] - 3s 5ms/step - loss: 0.9187 - accuracy: 0.6406 - val_loss: 0.8526 - val_accuracy: 0.6809\n"
          ]
        }
      ],
      "source": [
        "# fit the model on chars only\n",
        "model_3_history = model_3.fit(train_char_datasets,\n",
        "                              steps_per_epoch=int(0.1*len(train_char_datasets)),\n",
        "                              epochs=3,\n",
        "                              validation_data=val_char_datasets,\n",
        "                              validation_steps=int(0.1*len(val_char_datasets)))"
      ]
    },
    {
      "cell_type": "code",
      "execution_count": null,
      "metadata": {
        "colab": {
          "base_uri": "https://localhost:8080/"
        },
        "id": "hQ5l094zFUWu",
        "outputId": "82adc13b-bbf0-4fe6-9896-55a9a2857941"
      },
      "outputs": [
        {
          "name": "stdout",
          "output_type": "stream",
          "text": [
            "945/945 [==============================] - 2s 2ms/step\n"
          ]
        },
        {
          "data": {
            "text/plain": [
              "array([[0.07819937, 0.57341367, 0.06203098, 0.14546807, 0.1408879 ],\n",
              "       [0.23495896, 0.46125457, 0.02563229, 0.23727326, 0.04088083],\n",
              "       [0.07125391, 0.4519151 , 0.17393106, 0.11513069, 0.18776926],\n",
              "       ...,\n",
              "       [0.05004508, 0.05351594, 0.15176533, 0.05361101, 0.6910627 ],\n",
              "       [0.03465034, 0.10895456, 0.31574243, 0.08231534, 0.45833737],\n",
              "       [0.45694637, 0.39509726, 0.07446077, 0.06185215, 0.01164341]],\n",
              "      dtype=float32)"
            ]
          },
          "execution_count": 218,
          "metadata": {},
          "output_type": "execute_result"
        }
      ],
      "source": [
        "# make predictions with character model only\n",
        "model_3_pred_probs = model_3.predict(val_char_datasets)\n",
        "model_3_pred_probs"
      ]
    },
    {
      "cell_type": "code",
      "execution_count": null,
      "metadata": {
        "colab": {
          "base_uri": "https://localhost:8080/"
        },
        "id": "KmqtTXijF3fL",
        "outputId": "e0e1c2a5-99d8-4ab3-ed32-1fc5f0662833"
      },
      "outputs": [
        {
          "data": {
            "text/plain": [
              "<tf.Tensor: shape=(30212,), dtype=int64, numpy=array([1, 1, 1, ..., 4, 4, 0])>"
            ]
          },
          "execution_count": 219,
          "metadata": {},
          "output_type": "execute_result"
        }
      ],
      "source": [
        "# convert prediction probaabilities to class labels\n",
        "model_3_preds = tf.argmax(model_3_pred_probs, axis=1)\n",
        "model_3_preds"
      ]
    },
    {
      "cell_type": "code",
      "execution_count": null,
      "metadata": {
        "colab": {
          "base_uri": "https://localhost:8080/"
        },
        "id": "WWjgLP3WG39Z",
        "outputId": "65ca313c-aea8-48d8-ad4e-19f2b4a7b19d"
      },
      "outputs": [
        {
          "data": {
            "text/plain": [
              "array([0, 0, 3, ..., 4, 1, 1])"
            ]
          },
          "execution_count": 220,
          "metadata": {},
          "output_type": "execute_result"
        }
      ],
      "source": [
        "val_labels_encoded"
      ]
    },
    {
      "cell_type": "code",
      "execution_count": null,
      "metadata": {
        "colab": {
          "base_uri": "https://localhost:8080/"
        },
        "id": "5I86BK-IGdPv",
        "outputId": "e7edf598-4925-4476-ea73-fd909955788e"
      },
      "outputs": [
        {
          "data": {
            "text/plain": [
              "{'accuracy': 66.34449887461936,\n",
              " 'precision': 0.6577164673867891,\n",
              " 'recall': 0.6634449887461936,\n",
              " 'f1': 0.6541215817806492}"
            ]
          },
          "execution_count": 221,
          "metadata": {},
          "output_type": "execute_result"
        }
      ],
      "source": [
        "# calculate results for Conv1D model chars only\n",
        "model_3_results = calculate_results(y_true=val_labels_encoded, \n",
        "                                    y_pred=model_3_preds)\n",
        "model_3_results"
      ]
    },
    {
      "cell_type": "code",
      "execution_count": null,
      "metadata": {
        "colab": {
          "base_uri": "https://localhost:8080/"
        },
        "id": "oh0MTu9DHGjd",
        "outputId": "5c75b0f6-2f92-429b-ce7e-cb69f7d63d7d"
      },
      "outputs": [
        {
          "data": {
            "text/plain": [
              "{'accuracy': 72.1832384482987,\n",
              " 'precision': 0.7186466952323352,\n",
              " 'recall': 0.7218323844829869,\n",
              " 'f1': 0.6989250353450294}"
            ]
          },
          "execution_count": 222,
          "metadata": {},
          "output_type": "execute_result"
        }
      ],
      "source": [
        "baseline_results"
      ]
    },
    {
      "cell_type": "markdown",
      "metadata": {
        "id": "h7TomfSWHNkv"
      },
      "source": [
        "Concatenate,\n",
        "from keras.api._v2.keras.layers import concatenate\n",
        "## Model 4: Combining pretrained token embeddings + characters embeddings (hybride embedding layer)\n",
        "\n",
        "1. Create a token-level embedding model (similar model_1)\n",
        "2. Create a character-level model (similar to model_3 with a slight modification)\n",
        "3. Combine 1 & 2 with a concatenate (`layers.Concatenate`)\n",
        "4. Build a series of output layers on top of 3 similar to figure 1 and section4.2 of https://arxiv.org/pdf/1612.05251.pdf\n",
        "5. Constarct a model which takes token and charaters-level sequences as input and produces sequence label probabilities as outout"
      ]
    },
    {
      "cell_type": "code",
      "execution_count": null,
      "metadata": {
        "id": "5Ss9WhWxg8Xb"
      },
      "outputs": [],
      "source": [
        "# 1. setup token input/model\n",
        "token_inputs = layers.Input(shape=[], dtype=tf.string, name=\"token_input\")\n",
        "token_embeddings = tf_hub_embedding_layer(token_inputs)\n",
        "token_outputs = layers.Dense(128, activation=\"relu\")(token_embeddings)\n",
        "token_model = tf.keras.Model(inputs=token_inputs,\n",
        "                             outputs=token_outputs)\n",
        "\n",
        "# 2. setup char inputs/model\n",
        "char_inputs = layers.Input(shape=(1,), dtype=tf.string, name=\"char_input\")\n",
        "char_vectors = char_vectorizer(char_inputs)\n",
        "char_embeddings = char_embed(char_vectors)\n",
        "char_bi_ltsm = layers.Bidirectional(layers.LSTM(24))(char_embeddings) #character embeddings (25) but we are using multiply of 8\n",
        "char_model = tf.keras.Model(inputs=char_inputs,\n",
        "                            outputs=char_bi_ltsm)\n",
        "\n",
        "# 3. Concatenate token and char inputs (create hybrid token embedding)\n",
        "token_char_concate = layers.Concatenate(name=\"token_char_hybrid\")([token_model.output,\n",
        "                                                                   char_model.output])\n",
        "\n",
        "# 4. Create output layers - adding in dropout, discussed in section 4.2 of https://arxiv.org/pdf/1612.05251.pdf\n",
        "combined_dropout = layers.Dropout(0.5)(token_char_concate)\n",
        "combined_dense = layers.Dense(128, activation=\"relu\")(combined_dropout)\n",
        "final_dropout = layers.Dropout(0.5)(combined_dense)\n",
        "output_layer = layers.Dense(num_classes, activation=\"softmax\")(final_dropout)\n",
        "\n",
        "# 5. Constract model with char and token inputs\n",
        "model_4 = tf.keras.Model(inputs=[token_model.input, char_model.input],\n",
        "                         outputs=output_layer,\n",
        "                         name=\"model_4_token_and_char_embeddings\")\n"
      ]
    },
    {
      "cell_type": "code",
      "execution_count": null,
      "metadata": {
        "colab": {
          "base_uri": "https://localhost:8080/"
        },
        "id": "MsbymVsNrLgz",
        "outputId": "f0a0295a-6992-4cf2-ec10-ab92aed9cf9f"
      },
      "outputs": [
        {
          "name": "stdout",
          "output_type": "stream",
          "text": [
            "Model: \"model_4_token_and_char_embeddings\"\n",
            "__________________________________________________________________________________________________\n",
            " Layer (type)                   Output Shape         Param #     Connected to                     \n",
            "==================================================================================================\n",
            " char_input (InputLayer)        [(None, 1)]          0           []                               \n",
            "                                                                                                  \n",
            " token_input (InputLayer)       [(None,)]            0           []                               \n",
            "                                                                                                  \n",
            " char_vectorizer (TextVectoriza  (None, 290)         0           ['char_input[0][0]']             \n",
            " tion)                                                                                            \n",
            "                                                                                                  \n",
            " universal_sentence_encoder (Ke  (None, 512)         256797824   ['token_input[0][0]']            \n",
            " rasLayer)                                                                                        \n",
            "                                                                                                  \n",
            " char_embed (Embedding)         (None, 290, 25)      700         ['char_vectorizer[1][0]']        \n",
            "                                                                                                  \n",
            " dense_19 (Dense)               (None, 128)          65664       ['universal_sentence_encoder[1][0\n",
            "                                                                 ]']                              \n",
            "                                                                                                  \n",
            " bidirectional_3 (Bidirectional  (None, 48)          9600        ['char_embed[1][0]']             \n",
            " )                                                                                                \n",
            "                                                                                                  \n",
            " token_char_hybrid (Concatenate  (None, 176)         0           ['dense_19[0][0]',               \n",
            " )                                                                'bidirectional_3[0][0]']        \n",
            "                                                                                                  \n",
            " dropout_4 (Dropout)            (None, 176)          0           ['token_char_hybrid[0][0]']      \n",
            "                                                                                                  \n",
            " dense_20 (Dense)               (None, 128)          22656       ['dropout_4[0][0]']              \n",
            "                                                                                                  \n",
            " dropout_5 (Dropout)            (None, 128)          0           ['dense_20[0][0]']               \n",
            "                                                                                                  \n",
            " dense_21 (Dense)               (None, 5)            645         ['dropout_5[0][0]']              \n",
            "                                                                                                  \n",
            "==================================================================================================\n",
            "Total params: 256,897,089\n",
            "Trainable params: 99,265\n",
            "Non-trainable params: 256,797,824\n",
            "__________________________________________________________________________________________________\n"
          ]
        }
      ],
      "source": [
        "# summary\n",
        "model_4.summary()"
      ]
    },
    {
      "cell_type": "code",
      "execution_count": null,
      "metadata": {
        "colab": {
          "base_uri": "https://localhost:8080/",
          "height": 796
        },
        "id": "B9wBaWCWrg74",
        "outputId": "32f8550a-68cf-4878-a139-56c7c45b2346"
      },
      "outputs": [
        {
          "data": {
            "image/png": "[encoded data removed]",
            "text/plain": [
              "<IPython.core.display.Image object>"
            ]
          },
          "execution_count": 225,
          "metadata": {},
          "output_type": "execute_result"
        }
      ],
      "source": [
        "# plot hybrid token and character model\n",
        "from keras.utils import plot_model\n",
        "plot_model(model_4, show_shapes=True)"
      ]
    },
    {
      "cell_type": "code",
      "execution_count": null,
      "metadata": {
        "id": "mJLu4U85sBgj"
      },
      "outputs": [],
      "source": [
        "# compile token char model\n",
        "model_4.compile(loss=\"categorical_crossentropy\",\n",
        "                optimizer=tf.keras.optimizers.Adam(),\n",
        "                metrics=[\"accuracy\"])"
      ]
    },
    {
      "cell_type": "markdown",
      "metadata": {
        "id": "gN99x4xvt6I8"
      },
      "source": [
        "### Combining token and character data into tf.data Dataset\n"
      ]
    },
    {
      "cell_type": "code",
      "execution_count": null,
      "metadata": {
        "id": "UtJe4PH-uw7X"
      },
      "outputs": [],
      "source": [
        "# combine chars and tokens into a dataset\n",
        "train_token_char_data = tf.data.Dataset.from_tensor_slices((train_sentences, train_char)) # make data\n",
        "train_char_token_labels = tf.data.Dataset.from_tensor_slices((train_lables_one_hot))\n",
        "train_char_token_dataset = tf.data.Dataset.zip((train_token_char_data, train_char_token_labels)) # combine both\n",
        "\n",
        "# prefetch and batch train data\n",
        "train_char_token_dataset = train_char_token_dataset.batch(32).prefetch(tf.data.AUTOTUNE)"
      ]
    },
    {
      "cell_type": "code",
      "execution_count": null,
      "metadata": {
        "id": "RIAn9UQQyFFT"
      },
      "outputs": [],
      "source": [
        "# repeat above steps for valiadation\n",
        "val_token_char_data = tf.data.Dataset.from_tensor_slices((val_sentences, val_char)) # make data\n",
        "val_char_token_labels = tf.data.Dataset.from_tensor_slices((val_labels_one_hot))\n",
        "val_char_token_dataset = tf.data.Dataset.zip((val_token_char_data, val_char_token_labels)) # combine both\n",
        "\n",
        "# prefetch and batch val data\n",
        "val_char_token_dataset = val_char_token_dataset.batch(32).prefetch(tf.data.AUTOTUNE)"
      ]
    },
    {
      "cell_type": "code",
      "execution_count": null,
      "metadata": {
        "colab": {
          "base_uri": "https://localhost:8080/"
        },
        "id": "eiekzLEcyxO2",
        "outputId": "8bbb8ebc-faf1-4d34-8297-b66aee9ca813"
      },
      "outputs": [
        {
          "data": {
            "text/plain": [
              "(<PrefetchDataset element_spec=((TensorSpec(shape=(None,), dtype=tf.string, name=None), TensorSpec(shape=(None,), dtype=tf.string, name=None)), TensorSpec(shape=(None, 5), dtype=tf.float64, name=None))>,\n",
              " <PrefetchDataset element_spec=((TensorSpec(shape=(None,), dtype=tf.string, name=None), TensorSpec(shape=(None,), dtype=tf.string, name=None)), TensorSpec(shape=(None, 5), dtype=tf.float64, name=None))>)"
            ]
          },
          "execution_count": 229,
          "metadata": {},
          "output_type": "execute_result"
        }
      ],
      "source": [
        "# checkout our training char and token embedding dataset\n",
        "train_char_token_dataset, val_char_token_dataset"
      ]
    },
    {
      "cell_type": "markdown",
      "metadata": {
        "id": "bD4mBM7CzCkE"
      },
      "source": [
        "### Fitting a model on token and character-level sequences\n"
      ]
    },
    {
      "cell_type": "code",
      "execution_count": null,
      "metadata": {
        "colab": {
          "base_uri": "https://localhost:8080/"
        },
        "id": "ij_BSRECzfEI",
        "outputId": "3160e95a-d087-4fcb-8636-69e734a75ba5"
      },
      "outputs": [
        {
          "name": "stdout",
          "output_type": "stream",
          "text": [
            "Epoch 1/3\n",
            "562/562 [==============================] - 38s 50ms/step - loss: 0.9808 - accuracy: 0.6115 - val_loss: 0.7827 - val_accuracy: 0.6905\n",
            "Epoch 2/3\n",
            "562/562 [==============================] - 25s 45ms/step - loss: 0.7958 - accuracy: 0.6937 - val_loss: 0.7179 - val_accuracy: 0.7277\n",
            "Epoch 3/3\n",
            "562/562 [==============================] - 23s 41ms/step - loss: 0.7803 - accuracy: 0.7036 - val_loss: 0.6879 - val_accuracy: 0.7440\n"
          ]
        }
      ],
      "source": [
        "# fit model on token and chars\n",
        "model_4_history = model_4.fit(train_char_token_dataset,\n",
        "                              steps_per_epoch=int(0.1*len(train_char_token_dataset)),\n",
        "                              epochs=3,\n",
        "                              validation_data=val_char_token_dataset,\n",
        "                              validation_steps=int(0.1*len(val_char_token_dataset)))"
      ]
    },
    {
      "cell_type": "code",
      "execution_count": null,
      "metadata": {
        "colab": {
          "base_uri": "https://localhost:8080/"
        },
        "id": "ZkAk-p7B0ESG",
        "outputId": "53e2b6be-d71d-444c-e8e4-eb20df9dac37"
      },
      "outputs": [
        {
          "name": "stdout",
          "output_type": "stream",
          "text": [
            "945/945 [==============================] - 18s 19ms/step - loss: 0.6936 - accuracy: 0.7379\n"
          ]
        },
        {
          "data": {
            "text/plain": [
              "[0.69363933801651, 0.7378525137901306]"
            ]
          },
          "execution_count": 231,
          "metadata": {},
          "output_type": "execute_result"
        }
      ],
      "source": [
        "# evalaute on whole validation dataset\n",
        "model_4.evaluate(val_char_token_dataset)"
      ]
    },
    {
      "cell_type": "code",
      "execution_count": null,
      "metadata": {
        "colab": {
          "base_uri": "https://localhost:8080/"
        },
        "id": "pbgSrwdr1DV-",
        "outputId": "09c934b4-8ba1-445f-e09b-9171ce0f84bd"
      },
      "outputs": [
        {
          "name": "stdout",
          "output_type": "stream",
          "text": [
            "945/945 [==============================] - 19s 18ms/step\n"
          ]
        },
        {
          "data": {
            "text/plain": [
              "array([[5.4398298e-01, 2.5464332e-01, 3.4592915e-03, 1.9406040e-01,\n",
              "        3.8540263e-03],\n",
              "       [3.5596234e-01, 4.1360116e-01, 6.0839658e-03, 2.2184442e-01,\n",
              "        2.5081488e-03],\n",
              "       [3.1691778e-01, 1.2872884e-01, 4.5623578e-02, 4.8025349e-01,\n",
              "        2.8476322e-02],\n",
              "       ...,\n",
              "       [7.9672993e-04, 8.5429456e-03, 5.0063282e-02, 2.3862266e-04,\n",
              "        9.4035840e-01],\n",
              "       [4.2854855e-03, 4.0301260e-02, 2.0775983e-01, 1.7160975e-03,\n",
              "        7.4593729e-01],\n",
              "       [3.5272369e-01, 3.8922453e-01, 1.9170082e-01, 3.3422019e-02,\n",
              "        3.2929000e-02]], dtype=float32)"
            ]
          },
          "execution_count": 232,
          "metadata": {},
          "output_type": "execute_result"
        }
      ],
      "source": [
        "# make predictions using the token-character modelhybrid\n",
        "model_4_pred_probs = model_4.predict(val_char_token_dataset)\n",
        "model_4_pred_probs"
      ]
    },
    {
      "cell_type": "code",
      "execution_count": null,
      "metadata": {
        "colab": {
          "base_uri": "https://localhost:8080/"
        },
        "id": "rT_8WEzU1b2m",
        "outputId": "9ef1c9bc-db59-49da-b958-e5f080d83fba"
      },
      "outputs": [
        {
          "data": {
            "text/plain": [
              "<tf.Tensor: shape=(30212,), dtype=int64, numpy=array([0, 1, 3, ..., 4, 4, 1])>"
            ]
          },
          "execution_count": 233,
          "metadata": {},
          "output_type": "execute_result"
        }
      ],
      "source": [
        "# format pred probs into pred labels\n",
        "model_4_preds = tf.argmax(model_4_pred_probs, axis=1)\n",
        "model_4_preds"
      ]
    },
    {
      "cell_type": "code",
      "execution_count": null,
      "metadata": {
        "colab": {
          "base_uri": "https://localhost:8080/"
        },
        "id": "sZYlp1H51446",
        "outputId": "2a62ef20-da22-4066-a8c8-6f5040b0a613"
      },
      "outputs": [
        {
          "data": {
            "text/plain": [
              "{'accuracy': 73.78525089368463,\n",
              " 'precision': 0.7375458908961698,\n",
              " 'recall': 0.7378525089368463,\n",
              " 'f1': 0.736360558905463}"
            ]
          },
          "execution_count": 234,
          "metadata": {},
          "output_type": "execute_result"
        }
      ],
      "source": [
        "# result for model 4\n",
        "model_4_results = calculate_results(y_true=val_labels_encoded,\n",
        "                                    y_pred=model_4_preds)\n",
        "model_4_results"
      ]
    },
    {
      "cell_type": "code",
      "execution_count": null,
      "metadata": {
        "colab": {
          "base_uri": "https://localhost:8080/"
        },
        "id": "CcY3l6iy2Mgg",
        "outputId": "92db64ef-e195-4d98-fc72-fb2e8fd062f9"
      },
      "outputs": [
        {
          "data": {
            "text/plain": [
              "{'accuracy': 78.58135840063551,\n",
              " 'precision': 0.782750672344357,\n",
              " 'recall': 0.785813584006355,\n",
              " 'f1': 0.7836529439223097}"
            ]
          },
          "execution_count": 235,
          "metadata": {},
          "output_type": "execute_result"
        }
      ],
      "source": [
        "model_1_results"
      ]
    },
    {
      "cell_type": "markdown",
      "metadata": {
        "id": "eOvPJZkLoS4D"
      },
      "source": [
        "## Model 5: Transfer Learning with pretrained token embeddings + character embedding + positional embeddings\n",
        "\n",
        "\n",
        "*Feature engineering* is a machine learning technique that leverages data to create new variables that aren't in the training set.\n",
        "\n"
      ]
    },
    {
      "cell_type": "code",
      "execution_count": null,
      "metadata": {
        "colab": {
          "base_uri": "https://localhost:8080/",
          "height": 267
        },
        "id": "grd35dEhpkm4",
        "outputId": "264f812f-a6ea-4625-cf45-1658f01d3531"
      },
      "outputs": [
        {
          "data": {
            "text/html": [
              "\n",
              "  <div id=\"df-4912ad4e-a142-4580-9ceb-5defb1ef9ac4\">\n",
              "    <div class=\"colab-df-container\">\n",
              "      <div>\n",
              "<style scoped>\n",
              "    .dataframe tbody tr th:only-of-type {\n",
              "        vertical-align: middle;\n",
              "    }\n",
              "\n",
              "    .dataframe tbody tr th {\n",
              "        vertical-align: top;\n",
              "    }\n",
              "\n",
              "    .dataframe thead th {\n",
              "        text-align: right;\n",
              "    }\n",
              "</style>\n",
              "<table border=\"1\" class=\"dataframe\">\n",
              "  <thead>\n",
              "    <tr style=\"text-align: right;\">\n",
              "      <th></th>\n",
              "      <th>target</th>\n",
              "      <th>text</th>\n",
              "      <th>line_number</th>\n",
              "      <th>total_lines</th>\n",
              "    </tr>\n",
              "  </thead>\n",
              "  <tbody>\n",
              "    <tr>\n",
              "      <th>0</th>\n",
              "      <td>OBJECTIVE</td>\n",
              "      <td>to investigate the efficacy of @ weeks of dail...</td>\n",
              "      <td>0</td>\n",
              "      <td>11</td>\n",
              "    </tr>\n",
              "    <tr>\n",
              "      <th>1</th>\n",
              "      <td>METHODS</td>\n",
              "      <td>a total of @ patients with primary knee oa wer...</td>\n",
              "      <td>1</td>\n",
              "      <td>11</td>\n",
              "    </tr>\n",
              "    <tr>\n",
              "      <th>2</th>\n",
              "      <td>METHODS</td>\n",
              "      <td>outcome measures included pain reduction and i...</td>\n",
              "      <td>2</td>\n",
              "      <td>11</td>\n",
              "    </tr>\n",
              "    <tr>\n",
              "      <th>3</th>\n",
              "      <td>METHODS</td>\n",
              "      <td>pain was assessed using the visual analog pain...</td>\n",
              "      <td>3</td>\n",
              "      <td>11</td>\n",
              "    </tr>\n",
              "    <tr>\n",
              "      <th>4</th>\n",
              "      <td>METHODS</td>\n",
              "      <td>secondary outcome measures included the wester...</td>\n",
              "      <td>4</td>\n",
              "      <td>11</td>\n",
              "    </tr>\n",
              "  </tbody>\n",
              "</table>\n",
              "</div>\n",
              "      <button class=\"colab-df-convert\" onclick=\"convertToInteractive('df-4912ad4e-a142-4580-9ceb-5defb1ef9ac4')\"\n",
              "              title=\"Convert this dataframe to an interactive table.\"\n",
              "              style=\"display:none;\">\n",
              "        \n",
              "  <svg xmlns=\"http://www.w3.org/2000/svg\" height=\"24px\"viewBox=\"0 0 24 24\"\n",
              "       width=\"24px\">\n",
              "    <path d=\"M0 0h24v24H0V0z\" fill=\"none\"/>\n",
              "    <path d=\"M18.56 5.44l.94 2.06.94-2.06 2.06-.94-2.06-.94-.94-2.06-.94 2.06-2.06.94zm-11 1L8.5 8.5l.94-2.06 2.06-.94-2.06-.94L8.5 2.5l-.94 2.06-2.06.94zm10 10l.94 2.06.94-2.06 2.06-.94-2.06-.94-.94-2.06-.94 2.06-2.06.94z\"/><path d=\"M17.41 7.96l-1.37-1.37c-.4-.4-.92-.59-1.43-.59-.52 0-1.04.2-1.43.59L10.3 9.45l-7.72 7.72c-.78.78-.78 2.05 0 2.83L4 21.41c.39.39.9.59 1.41.59.51 0 1.02-.2 1.41-.59l7.78-7.78 2.81-2.81c.8-.78.8-2.07 0-2.86zM5.41 20L4 18.59l7.72-7.72 1.47 1.35L5.41 20z\"/>\n",
              "  </svg>\n",
              "      </button>\n",
              "      \n",
              "  <style>\n",
              "    .colab-df-container {\n",
              "      display:flex;\n",
              "      flex-wrap:wrap;\n",
              "      gap: 12px;\n",
              "    }\n",
              "\n",
              "    .colab-df-convert {\n",
              "      background-color: #E8F0FE;\n",
              "      border: none;\n",
              "      border-radius: 50%;\n",
              "      cursor: pointer;\n",
              "      display: none;\n",
              "      fill: #1967D2;\n",
              "      height: 32px;\n",
              "      padding: 0 0 0 0;\n",
              "      width: 32px;\n",
              "    }\n",
              "\n",
              "    .colab-df-convert:hover {\n",
              "      background-color: #E2EBFA;\n",
              "      box-shadow: 0px 1px 2px rgba(60, 64, 67, 0.3), 0px 1px 3px 1px rgba(60, 64, 67, 0.15);\n",
              "      fill: #174EA6;\n",
              "    }\n",
              "\n",
              "    [theme=dark] .colab-df-convert {\n",
              "      background-color: #3B4455;\n",
              "      fill: #D2E3FC;\n",
              "    }\n",
              "\n",
              "    [theme=dark] .colab-df-convert:hover {\n",
              "      background-color: #434B5C;\n",
              "      box-shadow: 0px 1px 3px 1px rgba(0, 0, 0, 0.15);\n",
              "      filter: drop-shadow(0px 1px 2px rgba(0, 0, 0, 0.3));\n",
              "      fill: #FFFFFF;\n",
              "    }\n",
              "  </style>\n",
              "\n",
              "      <script>\n",
              "        const buttonEl =\n",
              "          document.querySelector('#df-4912ad4e-a142-4580-9ceb-5defb1ef9ac4 button.colab-df-convert');\n",
              "        buttonEl.style.display =\n",
              "          google.colab.kernel.accessAllowed ? 'block' : 'none';\n",
              "\n",
              "        async function convertToInteractive(key) {\n",
              "          const element = document.querySelector('#df-4912ad4e-a142-4580-9ceb-5defb1ef9ac4');\n",
              "          const dataTable =\n",
              "            await google.colab.kernel.invokeFunction('convertToInteractive',\n",
              "                                                     [key], {});\n",
              "          if (!dataTable) return;\n",
              "\n",
              "          const docLinkHtml = 'Like what you see? Visit the ' +\n",
              "            '<a target=\"_blank\" href=https://colab.research.google.com/notebooks/data_table.ipynb>data table notebook</a>'\n",
              "            + ' to learn more about interactive tables.';\n",
              "          element.innerHTML = '';\n",
              "          dataTable['output_type'] = 'display_data';\n",
              "          await google.colab.output.renderOutput(dataTable, element);\n",
              "          const docLink = document.createElement('div');\n",
              "          docLink.innerHTML = docLinkHtml;\n",
              "          element.appendChild(docLink);\n",
              "        }\n",
              "      </script>\n",
              "    </div>\n",
              "  </div>\n",
              "  "
            ],
            "text/plain": [
              "      target                                               text  line_number  \\\n",
              "0  OBJECTIVE  to investigate the efficacy of @ weeks of dail...            0   \n",
              "1    METHODS  a total of @ patients with primary knee oa wer...            1   \n",
              "2    METHODS  outcome measures included pain reduction and i...            2   \n",
              "3    METHODS  pain was assessed using the visual analog pain...            3   \n",
              "4    METHODS  secondary outcome measures included the wester...            4   \n",
              "\n",
              "   total_lines  \n",
              "0           11  \n",
              "1           11  \n",
              "2           11  \n",
              "3           11  \n",
              "4           11  "
            ]
          },
          "execution_count": 236,
          "metadata": {},
          "output_type": "execute_result"
        }
      ],
      "source": [
        "train_df.head()"
      ]
    },
    {
      "cell_type": "markdown",
      "metadata": {
        "id": "CsdljOJMqIPM"
      },
      "source": [
        "> 🔑**Note** Any engineered features used to train a model need to be available at test time. \n",
        "In Our case, the line numbers and total lines are avaialable."
      ]
    },
    {
      "cell_type": "markdown",
      "metadata": {
        "id": "J9J0BhkJrktH"
      },
      "source": [
        "### Create positional embeddings"
      ]
    },
    {
      "cell_type": "code",
      "execution_count": null,
      "metadata": {
        "colab": {
          "base_uri": "https://localhost:8080/"
        },
        "id": "4jNZOBc5rxIw",
        "outputId": "f4a09897-dbce-4007-f20c-2a8c92584c85"
      },
      "outputs": [
        {
          "data": {
            "text/plain": [
              "0     15000\n",
              "1     15000\n",
              "2     15000\n",
              "3     15000\n",
              "4     14992\n",
              "5     14949\n",
              "6     14758\n",
              "7     14279\n",
              "8     13346\n",
              "9     11981\n",
              "10    10041\n",
              "11     7892\n",
              "12     5853\n",
              "13     4152\n",
              "14     2835\n",
              "15     1861\n",
              "16     1188\n",
              "17      751\n",
              "18      462\n",
              "19      286\n",
              "20      162\n",
              "21      101\n",
              "22       66\n",
              "23       33\n",
              "24       22\n",
              "25       14\n",
              "26        7\n",
              "27        4\n",
              "28        3\n",
              "29        1\n",
              "30        1\n",
              "Name: line_number, dtype: int64"
            ]
          },
          "execution_count": 237,
          "metadata": {},
          "output_type": "execute_result"
        }
      ],
      "source": [
        "train_df['line_number'].value_counts()"
      ]
    },
    {
      "cell_type": "code",
      "execution_count": null,
      "metadata": {
        "colab": {
          "base_uri": "https://localhost:8080/",
          "height": 282
        },
        "id": "CnaP3IY-sJq-",
        "outputId": "6a3aa22d-039c-49ed-ed9e-d484a6c18511"
      },
      "outputs": [
        {
          "data": {
            "text/plain": [
              "<Axes: ylabel='Frequency'>"
            ]
          },
          "execution_count": 238,
          "metadata": {},
          "output_type": "execute_result"
        },
        {
          "data": {
            "image/png": "[encoded data removed]",
            "text/plain": [
              "<Figure size 432x288 with 1 Axes>"
            ]
          },
          "metadata": {},
          "output_type": "display_data"
        }
      ],
      "source": [
        "# check the distribution of line_number column\n",
        "train_df.line_number.plot.hist()"
      ]
    },
    {
      "cell_type": "code",
      "execution_count": null,
      "metadata": {
        "colab": {
          "base_uri": "https://localhost:8080/"
        },
        "id": "30zomErMsZGK",
        "outputId": "db0a9985-107d-467e-8fb6-5d13032dee0c"
      },
      "outputs": [
        {
          "data": {
            "text/plain": [
              "TensorShape([180040, 15])"
            ]
          },
          "execution_count": 239,
          "metadata": {},
          "output_type": "execute_result"
        }
      ],
      "source": [
        "# use tensorflow to create one hot encodding\n",
        "train_line_numbers_one_hot = tf.one_hot(train_df['line_number'].to_numpy(), depth=15)\n",
        "val_line_numbers_one_hot = tf.one_hot(val_df['line_number'].to_numpy(), depth=15)\n",
        "test_line_numbers_one_hot = tf.one_hot(test_df['line_number'].to_numpy(), depth=15)\n",
        "\n",
        "train_line_numbers_one_hot.shape"
      ]
    },
    {
      "cell_type": "markdown",
      "metadata": {
        "id": "w6jvHIUotAcn"
      },
      "source": [
        "Now we've encoded our line numbers features, let's do the same for our total lines feature..."
      ]
    },
    {
      "cell_type": "code",
      "execution_count": null,
      "metadata": {
        "colab": {
          "base_uri": "https://localhost:8080/"
        },
        "id": "t53T2VkEug0K",
        "outputId": "c33abcac-e7a3-4af0-8135-99545e1c2051"
      },
      "outputs": [
        {
          "data": {
            "text/plain": [
              "11    24468\n",
              "10    23639\n",
              "12    22113\n",
              "9     19400\n",
              "13    18438\n",
              "14    14610\n",
              "8     12285\n",
              "15    10768\n",
              "7      7464\n",
              "16     7429\n",
              "17     5202\n",
              "6      3353\n",
              "18     3344\n",
              "19     2480\n",
              "20     1281\n",
              "5      1146\n",
              "21      770\n",
              "22      759\n",
              "23      264\n",
              "4       215\n",
              "24      200\n",
              "25      182\n",
              "26       81\n",
              "28       58\n",
              "3        32\n",
              "30       31\n",
              "27       28\n",
              "Name: total_lines, dtype: int64"
            ]
          },
          "execution_count": 240,
          "metadata": {},
          "output_type": "execute_result"
        }
      ],
      "source": [
        "# how many different line are?\n",
        "train_df['total_lines'].value_counts()"
      ]
    },
    {
      "cell_type": "code",
      "execution_count": null,
      "metadata": {
        "colab": {
          "base_uri": "https://localhost:8080/",
          "height": 284
        },
        "id": "hcN3ACeJu2Fd",
        "outputId": "fe7ae3f7-6da5-4d42-af7c-538473f33029"
      },
      "outputs": [
        {
          "data": {
            "text/plain": [
              "<Axes: ylabel='Frequency'>"
            ]
          },
          "execution_count": 241,
          "metadata": {},
          "output_type": "execute_result"
        },
        {
          "data": {
            "image/png": "[encoded data removed]",
            "text/plain": [
              "<Figure size 432x288 with 1 Axes>"
            ]
          },
          "metadata": {},
          "output_type": "display_data"
        }
      ],
      "source": [
        "# check out distributions of total lines\n",
        "train_df.total_lines.plot.hist()"
      ]
    },
    {
      "cell_type": "code",
      "execution_count": null,
      "metadata": {
        "colab": {
          "base_uri": "https://localhost:8080/"
        },
        "id": "hGXimUac0SSM",
        "outputId": "cdba995b-e680-4836-fb44-8982bba07b6c"
      },
      "outputs": [
        {
          "data": {
            "text/plain": [
              "20.0"
            ]
          },
          "execution_count": 242,
          "metadata": {},
          "output_type": "execute_result"
        }
      ],
      "source": [
        "# check the coverage of a total_lines \n",
        "np.percentile(train_df.total_lines, 98)"
      ]
    },
    {
      "cell_type": "code",
      "execution_count": null,
      "metadata": {
        "colab": {
          "base_uri": "https://localhost:8080/"
        },
        "id": "Fpqxq7oa0r4v",
        "outputId": "50d87e4c-23a3-47d7-a68c-824912fccc4b"
      },
      "outputs": [
        {
          "data": {
            "text/plain": [
              "(TensorShape([180040, 20]), <tf.Tensor: shape=(10, 20), dtype=float32, numpy=\n",
              " array([[0., 0., 0., 0., 0., 0., 0., 0., 0., 0., 0., 1., 0., 0., 0., 0.,\n",
              "         0., 0., 0., 0.],\n",
              "        [0., 0., 0., 0., 0., 0., 0., 0., 0., 0., 0., 1., 0., 0., 0., 0.,\n",
              "         0., 0., 0., 0.],\n",
              "        [0., 0., 0., 0., 0., 0., 0., 0., 0., 0., 0., 1., 0., 0., 0., 0.,\n",
              "         0., 0., 0., 0.],\n",
              "        [0., 0., 0., 0., 0., 0., 0., 0., 0., 0., 0., 1., 0., 0., 0., 0.,\n",
              "         0., 0., 0., 0.],\n",
              "        [0., 0., 0., 0., 0., 0., 0., 0., 0., 0., 0., 1., 0., 0., 0., 0.,\n",
              "         0., 0., 0., 0.],\n",
              "        [0., 0., 0., 0., 0., 0., 0., 0., 0., 0., 0., 1., 0., 0., 0., 0.,\n",
              "         0., 0., 0., 0.],\n",
              "        [0., 0., 0., 0., 0., 0., 0., 0., 0., 0., 0., 1., 0., 0., 0., 0.,\n",
              "         0., 0., 0., 0.],\n",
              "        [0., 0., 0., 0., 0., 0., 0., 0., 0., 0., 0., 1., 0., 0., 0., 0.,\n",
              "         0., 0., 0., 0.],\n",
              "        [0., 0., 0., 0., 0., 0., 0., 0., 0., 0., 0., 1., 0., 0., 0., 0.,\n",
              "         0., 0., 0., 0.],\n",
              "        [0., 0., 0., 0., 0., 0., 0., 0., 0., 0., 0., 1., 0., 0., 0., 0.,\n",
              "         0., 0., 0., 0.]], dtype=float32)>)"
            ]
          },
          "execution_count": 243,
          "metadata": {},
          "output_type": "execute_result"
        }
      ],
      "source": [
        "# use tensorflow to create one-hot-encoded \n",
        "train_total_line_one_hot = tf.one_hot(train_df[\"total_lines\"].to_numpy(), depth=20)\n",
        "val_total_line_one_hot = tf.one_hot(val_df[\"total_lines\"].to_numpy(), depth=20)\n",
        "test_total_line_one_hot = tf.one_hot(test_df[\"total_lines\"].to_numpy(), depth=20)\n",
        "\n",
        "train_total_line_one_hot.shape, train_total_line_one_hot[:10]"
      ]
    },
    {
      "cell_type": "markdown",
      "metadata": {
        "id": "Gu6JI3ui1EPO"
      },
      "source": [
        "### Build a tribrid embedding model\n",
        "\n",
        "1. Create a token-level model\n",
        "2. Create a character-level model\n",
        "3. Create a model for the \"line_number\" feature\n",
        "4. Create a model for the \"total_lines\" feature\n",
        "5. Combine the outputs of 1 & 2 using `tf.keras.layers.Concatenate`\n",
        "6. Combine the outputs of 3, 4, 5 using `tf.keras.layers.Concatenate`\n",
        "7. Create an output layer to accept the tribrid embedding and output label probaabilities\n",
        "8. Combine the inputs of 1, 2, 3, 4 and outputs of into a `tf.keras.Model` "
      ]
    },
    {
      "cell_type": "code",
      "execution_count": null,
      "metadata": {
        "colab": {
          "base_uri": "https://localhost:8080/"
        },
        "id": "P-8hEqIU9m2A",
        "outputId": "32badd8d-2b95-4592-dd73-d822fcb67ec4"
      },
      "outputs": [
        {
          "data": {
            "text/plain": [
              "(TensorShape([15]), tf.float32)"
            ]
          },
          "execution_count": 244,
          "metadata": {},
          "output_type": "execute_result"
        }
      ],
      "source": [
        "# for line_number_model\n",
        "train_line_numbers_one_hot[0].shape, train_line_numbers_one_hot.dtype"
      ]
    },
    {
      "cell_type": "code",
      "execution_count": null,
      "metadata": {
        "colab": {
          "base_uri": "https://localhost:8080/"
        },
        "id": "sbsj86jz-Lsd",
        "outputId": "a750cfbe-15b6-4d60-e362-c50a4e893af0"
      },
      "outputs": [
        {
          "data": {
            "text/plain": [
              "(TensorShape([20]), tf.float32)"
            ]
          },
          "execution_count": 245,
          "metadata": {},
          "output_type": "execute_result"
        }
      ],
      "source": [
        "# for total_lines model\n",
        "train_total_line_one_hot[0].shape, train_total_line_one_hot.dtype"
      ]
    },
    {
      "cell_type": "code",
      "execution_count": null,
      "metadata": {
        "id": "JodHeoMN3w2Z"
      },
      "outputs": [],
      "source": [
        "# 1. token input\n",
        "token_inputs = layers.Input(shape=[], dtype=\"string\", name=\"token_inputs\")\n",
        "token_embeddings = tf_hub_embedding_layer(token_inputs)\n",
        "token_outputs = layers.Dense(128, activation=\"relu\")(token_embeddings)\n",
        "token_model = tf.keras.Model(inputs=token_inputs,\n",
        "                             outputs=token_outputs)\n",
        "\n",
        "# 2. char inputs\n",
        "char_inputs = layers.Input(shape=(1,), dtype=\"string\", name=\"char_inputs\")\n",
        "char_vectors = char_vectorizer(char_inputs)\n",
        "char_embeddings = char_embed(char_vectors)\n",
        "char_bi_ltsm = layers.Bidirectional(layers.LSTM(24))(char_embeddings)\n",
        "char_model = tf.keras.Model(inputs=char_inputs,\n",
        "                            outputs=char_bi_ltsm)\n",
        "\n",
        "# 3. line numbers model\n",
        "line_number_inputs = layers.Input((15,), dtype=tf.float32, name=\"line_number_input\")\n",
        "line_number_outputs = layers.Dense(32, activation=\"relu\")(line_number_inputs)\n",
        "line_number_model = tf.keras.Model(inputs=line_number_inputs, \n",
        "                                   outputs=line_number_outputs)\n",
        "\n",
        "# 4. total lines model\n",
        "total_lines_inputs = layers.Input((20,), dtype=tf.float32, name=\"total_lines_input\")\n",
        "total_lines_outputs = layers.Dense(32, activation=\"relu\")(total_lines_inputs)\n",
        "total_lines_model = tf.keras.Model(inputs=total_lines_inputs, \n",
        "                                   outputs=total_lines_outputs)\n",
        "\n",
        "# 5. Combine token and char embeddings into a hybrid embedding\n",
        "combined_embeddings = layers.Concatenate(name=\"char_token_hybrid_embedding\")([token_model.output,\n",
        "                                                                              char_model.output])\n",
        "\n",
        "# For regularization, dropoutwith a rate of 0.5 is applied\n",
        "z = layers.Dense(256, activation=\"relu\")(combined_embeddings)\n",
        "z = layers.Dropout(rate=0.5)(z)\n",
        "\n",
        "# 6. combine positional embedding with combined token and char embedding\n",
        "tribrid_embeddings = layers.Concatenate(name=\"char_token_positional_embedding\")([line_number_model.output,\n",
        "                                                                                 total_lines_model.output,\n",
        "                                                                                 z])\n",
        "\n",
        "# 7. create output layer\n",
        "output_layer = layers.Dense(5, activation=\"softmax\", name=\"output_layer\")(tribrid_embeddings)\n",
        "\n",
        "# 8. put together model with all kind of inputs\n",
        "model_5 = tf.keras.Model(inputs=[line_number_model.input,\n",
        "                                 total_lines_model.input,\n",
        "                                 token_model.input,\n",
        "                                 char_model.input],\n",
        "                         outputs=output_layer,\n",
        "                         name=\"model_5_tribrid_embedding_model\")"
      ]
    },
    {
      "cell_type": "code",
      "execution_count": null,
      "metadata": {
        "colab": {
          "base_uri": "https://localhost:8080/"
        },
        "id": "Xr4yEUYNCZ3R",
        "outputId": "dcf1996c-0d37-478c-8b26-16bfbe58aa3d"
      },
      "outputs": [
        {
          "name": "stdout",
          "output_type": "stream",
          "text": [
            "Model: \"model_5_tribrid_embedding_model\"\n",
            "__________________________________________________________________________________________________\n",
            " Layer (type)                   Output Shape         Param #     Connected to                     \n",
            "==================================================================================================\n",
            " char_inputs (InputLayer)       [(None, 1)]          0           []                               \n",
            "                                                                                                  \n",
            " token_inputs (InputLayer)      [(None,)]            0           []                               \n",
            "                                                                                                  \n",
            " char_vectorizer (TextVectoriza  (None, 290)         0           ['char_inputs[0][0]']            \n",
            " tion)                                                                                            \n",
            "                                                                                                  \n",
            " universal_sentence_encoder (Ke  (None, 512)         256797824   ['token_inputs[0][0]']           \n",
            " rasLayer)                                                                                        \n",
            "                                                                                                  \n",
            " char_embed (Embedding)         (None, 290, 25)      700         ['char_vectorizer[2][0]']        \n",
            "                                                                                                  \n",
            " dense_22 (Dense)               (None, 128)          65664       ['universal_sentence_encoder[2][0\n",
            "                                                                 ]']                              \n",
            "                                                                                                  \n",
            " bidirectional_4 (Bidirectional  (None, 48)          9600        ['char_embed[2][0]']             \n",
            " )                                                                                                \n",
            "                                                                                                  \n",
            " char_token_hybrid_embedding (C  (None, 176)         0           ['dense_22[0][0]',               \n",
            " oncatenate)                                                      'bidirectional_4[0][0]']        \n",
            "                                                                                                  \n",
            " line_number_input (InputLayer)  [(None, 15)]        0           []                               \n",
            "                                                                                                  \n",
            " total_lines_input (InputLayer)  [(None, 20)]        0           []                               \n",
            "                                                                                                  \n",
            " dense_25 (Dense)               (None, 256)          45312       ['char_token_hybrid_embedding[0][\n",
            "                                                                 0]']                             \n",
            "                                                                                                  \n",
            " dense_23 (Dense)               (None, 32)           512         ['line_number_input[0][0]']      \n",
            "                                                                                                  \n",
            " dense_24 (Dense)               (None, 32)           672         ['total_lines_input[0][0]']      \n",
            "                                                                                                  \n",
            " dropout_6 (Dropout)            (None, 256)          0           ['dense_25[0][0]']               \n",
            "                                                                                                  \n",
            " char_token_positional_embeddin  (None, 320)         0           ['dense_23[0][0]',               \n",
            " g (Concatenate)                                                  'dense_24[0][0]',               \n",
            "                                                                  'dropout_6[0][0]']              \n",
            "                                                                                                  \n",
            " output_layer (Dense)           (None, 5)            1605        ['char_token_positional_embedding\n",
            "                                                                 [0][0]']                         \n",
            "                                                                                                  \n",
            "==================================================================================================\n",
            "Total params: 256,921,889\n",
            "Trainable params: 124,065\n",
            "Non-trainable params: 256,797,824\n",
            "__________________________________________________________________________________________________\n"
          ]
        }
      ],
      "source": [
        "# summary\n",
        "model_5.summary()"
      ]
    },
    {
      "cell_type": "code",
      "execution_count": null,
      "metadata": {
        "colab": {
          "base_uri": "https://localhost:8080/",
          "height": 572
        },
        "id": "nAmrVYbqCi1d",
        "outputId": "50412488-ae05-4058-e82f-6070fed527e8"
      },
      "outputs": [
        {
          "data": {
            "image/png": "[encoded data removed]",
            "text/plain": [
              "<IPython.core.display.Image object>"
            ]
          },
          "execution_count": 248,
          "metadata": {},
          "output_type": "execute_result"
        }
      ],
      "source": [
        "from keras.utils import plot_model\n",
        "plot_model(model_5)"
      ]
    },
    {
      "cell_type": "markdown",
      "metadata": {
        "id": "VNN-6lmsEvBu"
      },
      "source": [
        "what is label smoothing?\n",
        "\n",
        "For example, if our model gets too confident on single class (e.g its prediction probability is really high), it may stuck on that class and not consider other classes...\n",
        "\n",
        "Really confident : [0.0, 0.0, 1.0, 0.0, 0.0]\n",
        "\n",
        "what label smothing does is it assigns some of the value from the highest pred prob to other classes, in turn hopefully improving generalization: [0.01, 0.01, 0.96, 0.01, 0.01,]\n",
        "\n",
        "https://pyimagesearch.com/2019/12/30/label-smoothing-with-keras-tensorflow-and-deep-learning/"
      ]
    },
    {
      "cell_type": "code",
      "execution_count": null,
      "metadata": {
        "id": "w1OtLi1sDNmn"
      },
      "outputs": [],
      "source": [
        "# compile token, char, and positional embedding model\n",
        "model_5.compile(loss=tf.keras.losses.CategoricalCrossentropy(label_smoothing=0.2),\n",
        "                optimizer=tf.keras.optimizers.Adam(),\n",
        "                metrics=['accuracy'])"
      ]
    },
    {
      "cell_type": "markdown",
      "metadata": {
        "id": "r33-gJxSHOdk"
      },
      "source": [
        "### Create tribrid embedding datasets using tf.data"
      ]
    },
    {
      "cell_type": "code",
      "execution_count": null,
      "metadata": {
        "id": "XzoyGnynHwTY"
      },
      "outputs": [],
      "source": [
        "# create training and valiadation datasets (with all four kinds of input data)\n",
        "train_char_token_pos_data = tf.data.Dataset.from_tensor_slices((train_line_numbers_one_hot,\n",
        "                                                                train_total_line_one_hot,\n",
        "                                                                train_sentences,\n",
        "                                                                train_char))\n",
        "train_char_token_pos_labels = tf.data.Dataset.from_tensor_slices(train_lables_one_hot)\n",
        "train_char_token_pos_dataset = tf.data.Dataset.zip((train_char_token_pos_data, train_char_token_pos_labels))\n",
        "train_pos_char_token_dataset = train_char_token_pos_dataset.batch(32).prefetch(tf.data.AUTOTUNE)\n",
        "\n",
        "# do the same for validation dataset\n",
        "val_char_token_pos_data = tf.data.Dataset.from_tensor_slices((val_line_numbers_one_hot,\n",
        "                                                              val_total_line_one_hot,\n",
        "                                                              val_sentences,\n",
        "                                                              val_char))\n",
        "val_char_token_pos_labels = tf.data.Dataset.from_tensor_slices(val_labels_one_hot)\n",
        "val_char_token_pos_dataset = tf.data.Dataset.zip((val_char_token_pos_data, val_char_token_pos_labels))\n",
        "val_pos_char_token_dataset = val_char_token_pos_dataset.batch(32).prefetch(tf.data.AUTOTUNE)\n"
      ]
    },
    {
      "cell_type": "code",
      "execution_count": null,
      "metadata": {
        "colab": {
          "base_uri": "https://localhost:8080/"
        },
        "id": "8npZ1Ys_L_sJ",
        "outputId": "7858b1d5-4770-4e4d-cbe8-2bf4869dfff0"
      },
      "outputs": [
        {
          "data": {
            "text/plain": [
              "(<ZipDataset element_spec=((TensorSpec(shape=(15,), dtype=tf.float32, name=None), TensorSpec(shape=(20,), dtype=tf.float32, name=None), TensorSpec(shape=(), dtype=tf.string, name=None), TensorSpec(shape=(), dtype=tf.string, name=None)), TensorSpec(shape=(5,), dtype=tf.float64, name=None))>,\n",
              " <ZipDataset element_spec=((TensorSpec(shape=(15,), dtype=tf.float32, name=None), TensorSpec(shape=(20,), dtype=tf.float32, name=None), TensorSpec(shape=(), dtype=tf.string, name=None), TensorSpec(shape=(), dtype=tf.string, name=None)), TensorSpec(shape=(5,), dtype=tf.float64, name=None))>)"
            ]
          },
          "execution_count": 251,
          "metadata": {},
          "output_type": "execute_result"
        }
      ],
      "source": [
        "# check input shapes\n",
        "train_char_token_pos_dataset, val_char_token_pos_dataset"
      ]
    },
    {
      "cell_type": "markdown",
      "metadata": {
        "id": "ugeNMTZVMvrK"
      },
      "source": [
        "### Fitting, evaluating and making predictions with our tribrid model"
      ]
    },
    {
      "cell_type": "code",
      "execution_count": null,
      "metadata": {
        "colab": {
          "base_uri": "https://localhost:8080/"
        },
        "id": "9_2VnBVo8Ac3",
        "outputId": "6941c053-f1eb-4072-9f7d-8e3160d227eb"
      },
      "outputs": [
        {
          "name": "stdout",
          "output_type": "stream",
          "text": [
            "Epoch 1/3\n",
            "562/562 [==============================] - 41s 52ms/step - loss: 1.0942 - accuracy: 0.7258 - val_loss: 0.9821 - val_accuracy: 0.8009\n",
            "Epoch 2/3\n",
            "562/562 [==============================] - 26s 46ms/step - loss: 0.9663 - accuracy: 0.8171 - val_loss: 0.9507 - val_accuracy: 0.8285\n",
            "Epoch 3/3\n",
            "562/562 [==============================] - 23s 42ms/step - loss: 0.9514 - accuracy: 0.8220 - val_loss: 0.9386 - val_accuracy: 0.8305\n"
          ]
        }
      ],
      "source": [
        "# Fit the token, char and positional embedding model\n",
        "history_model_5 = model_5.fit(train_pos_char_token_dataset,\n",
        "                              steps_per_epoch=int(0.1 * len(train_pos_char_token_dataset)),\n",
        "                              epochs=3,\n",
        "                              validation_data=val_pos_char_token_dataset,\n",
        "                              validation_steps=int(0.1 * len(val_pos_char_token_dataset)))"
      ]
    },
    {
      "cell_type": "code",
      "execution_count": null,
      "metadata": {
        "colab": {
          "base_uri": "https://localhost:8080/"
        },
        "id": "ebBJTViOaIhj",
        "outputId": "60f259bb-8c1c-46a9-af3a-515abbcd6f1a"
      },
      "outputs": [
        {
          "name": "stdout",
          "output_type": "stream",
          "text": [
            "945/945 [==============================] - 21s 19ms/step\n"
          ]
        },
        {
          "data": {
            "text/plain": [
              "array([[0.47836643, 0.1002402 , 0.01078268, 0.3936095 , 0.01700119],\n",
              "       [0.54651433, 0.09480958, 0.04312029, 0.30660713, 0.00894866],\n",
              "       [0.29862824, 0.10963944, 0.14187749, 0.37012506, 0.07972989],\n",
              "       ...,\n",
              "       [0.03058453, 0.10031484, 0.04047126, 0.02874914, 0.79988027],\n",
              "       [0.02951416, 0.2979188 , 0.07290934, 0.02926891, 0.5703888 ],\n",
              "       [0.17830251, 0.5934965 , 0.1154953 , 0.0438562 , 0.06884952]],\n",
              "      dtype=float32)"
            ]
          },
          "execution_count": 254,
          "metadata": {},
          "output_type": "execute_result"
        }
      ],
      "source": [
        "# make prediction with the char token pos model\n",
        "model_5_pred_probs = model_5.predict(val_pos_char_token_dataset, verbose=1)\n",
        "model_5_pred_probs"
      ]
    },
    {
      "cell_type": "code",
      "execution_count": null,
      "metadata": {
        "colab": {
          "base_uri": "https://localhost:8080/"
        },
        "id": "Pj6ZF1ecAB1p",
        "outputId": "957cbb1c-506f-4a2e-c67f-f7877e1cff76"
      },
      "outputs": [
        {
          "data": {
            "text/plain": [
              "<tf.Tensor: shape=(30212,), dtype=int64, numpy=array([0, 0, 3, ..., 4, 4, 1])>"
            ]
          },
          "execution_count": 256,
          "metadata": {},
          "output_type": "execute_result"
        }
      ],
      "source": [
        "# convert pred probs to pred labels\n",
        "model_5_preds = tf.argmax(model_5_pred_probs, axis=1)\n",
        "model_5_preds"
      ]
    },
    {
      "cell_type": "code",
      "execution_count": null,
      "metadata": {
        "colab": {
          "base_uri": "https://localhost:8080/"
        },
        "id": "0R6ARSfXAb6Y",
        "outputId": "f263c7c0-1a12-4673-d6f3-3c19e4419dfa"
      },
      "outputs": [
        {
          "data": {
            "text/plain": [
              "{'accuracy': 83.3443664768966,\n",
              " 'precision': 0.832687201916737,\n",
              " 'recall': 0.8334436647689659,\n",
              " 'f1': 0.8324306114382476}"
            ]
          },
          "execution_count": 259,
          "metadata": {},
          "output_type": "execute_result"
        }
      ],
      "source": [
        "# calculate results of char token pos model \n",
        "model_5_results = calculate_results(val_labels_encoded, model_5_preds)\n",
        "model_5_results"
      ]
    },
    {
      "cell_type": "markdown",
      "metadata": {
        "id": "6nx8-fGfAt6n"
      },
      "source": [
        "# Compare model results"
      ]
    },
    {
      "cell_type": "code",
      "execution_count": null,
      "metadata": {
        "colab": {
          "base_uri": "https://localhost:8080/",
          "height": 237
        },
        "id": "qGyEJCNtCIBc",
        "outputId": "dfa9d700-8661-4d2a-dd1a-5e8cef7c2beb"
      },
      "outputs": [
        {
          "data": {
            "text/html": [
              "\n",
              "  <div id=\"df-5ee990e7-38e7-4840-90c1-c588e3372ee3\">\n",
              "    <div class=\"colab-df-container\">\n",
              "      <div>\n",
              "<style scoped>\n",
              "    .dataframe tbody tr th:only-of-type {\n",
              "        vertical-align: middle;\n",
              "    }\n",
              "\n",
              "    .dataframe tbody tr th {\n",
              "        vertical-align: top;\n",
              "    }\n",
              "\n",
              "    .dataframe thead th {\n",
              "        text-align: right;\n",
              "    }\n",
              "</style>\n",
              "<table border=\"1\" class=\"dataframe\">\n",
              "  <thead>\n",
              "    <tr style=\"text-align: right;\">\n",
              "      <th></th>\n",
              "      <th>accuracy</th>\n",
              "      <th>precision</th>\n",
              "      <th>recall</th>\n",
              "      <th>f1</th>\n",
              "    </tr>\n",
              "  </thead>\n",
              "  <tbody>\n",
              "    <tr>\n",
              "      <th>model_0_baseline</th>\n",
              "      <td>72.183238</td>\n",
              "      <td>0.718647</td>\n",
              "      <td>0.721832</td>\n",
              "      <td>0.698925</td>\n",
              "    </tr>\n",
              "    <tr>\n",
              "      <th>model_1_custom_token_embedding</th>\n",
              "      <td>78.581358</td>\n",
              "      <td>0.782751</td>\n",
              "      <td>0.785814</td>\n",
              "      <td>0.783653</td>\n",
              "    </tr>\n",
              "    <tr>\n",
              "      <th>model_2_pretrained_token_embedding</th>\n",
              "      <td>71.190256</td>\n",
              "      <td>0.712744</td>\n",
              "      <td>0.711903</td>\n",
              "      <td>0.709268</td>\n",
              "    </tr>\n",
              "    <tr>\n",
              "      <th>model_3_custom_char_embedding</th>\n",
              "      <td>66.344499</td>\n",
              "      <td>0.657716</td>\n",
              "      <td>0.663445</td>\n",
              "      <td>0.654122</td>\n",
              "    </tr>\n",
              "    <tr>\n",
              "      <th>model_4_hybrid_char_token_embedding</th>\n",
              "      <td>73.785251</td>\n",
              "      <td>0.737546</td>\n",
              "      <td>0.737853</td>\n",
              "      <td>0.736361</td>\n",
              "    </tr>\n",
              "    <tr>\n",
              "      <th>model_5_pos_char_token_embedding</th>\n",
              "      <td>83.344366</td>\n",
              "      <td>0.832687</td>\n",
              "      <td>0.833444</td>\n",
              "      <td>0.832431</td>\n",
              "    </tr>\n",
              "  </tbody>\n",
              "</table>\n",
              "</div>\n",
              "      <button class=\"colab-df-convert\" onclick=\"convertToInteractive('df-5ee990e7-38e7-4840-90c1-c588e3372ee3')\"\n",
              "              title=\"Convert this dataframe to an interactive table.\"\n",
              "              style=\"display:none;\">\n",
              "        \n",
              "  <svg xmlns=\"http://www.w3.org/2000/svg\" height=\"24px\"viewBox=\"0 0 24 24\"\n",
              "       width=\"24px\">\n",
              "    <path d=\"M0 0h24v24H0V0z\" fill=\"none\"/>\n",
              "    <path d=\"M18.56 5.44l.94 2.06.94-2.06 2.06-.94-2.06-.94-.94-2.06-.94 2.06-2.06.94zm-11 1L8.5 8.5l.94-2.06 2.06-.94-2.06-.94L8.5 2.5l-.94 2.06-2.06.94zm10 10l.94 2.06.94-2.06 2.06-.94-2.06-.94-.94-2.06-.94 2.06-2.06.94z\"/><path d=\"M17.41 7.96l-1.37-1.37c-.4-.4-.92-.59-1.43-.59-.52 0-1.04.2-1.43.59L10.3 9.45l-7.72 7.72c-.78.78-.78 2.05 0 2.83L4 21.41c.39.39.9.59 1.41.59.51 0 1.02-.2 1.41-.59l7.78-7.78 2.81-2.81c.8-.78.8-2.07 0-2.86zM5.41 20L4 18.59l7.72-7.72 1.47 1.35L5.41 20z\"/>\n",
              "  </svg>\n",
              "      </button>\n",
              "      \n",
              "  <style>\n",
              "    .colab-df-container {\n",
              "      display:flex;\n",
              "      flex-wrap:wrap;\n",
              "      gap: 12px;\n",
              "    }\n",
              "\n",
              "    .colab-df-convert {\n",
              "      background-color: #E8F0FE;\n",
              "      border: none;\n",
              "      border-radius: 50%;\n",
              "      cursor: pointer;\n",
              "      display: none;\n",
              "      fill: #1967D2;\n",
              "      height: 32px;\n",
              "      padding: 0 0 0 0;\n",
              "      width: 32px;\n",
              "    }\n",
              "\n",
              "    .colab-df-convert:hover {\n",
              "      background-color: #E2EBFA;\n",
              "      box-shadow: 0px 1px 2px rgba(60, 64, 67, 0.3), 0px 1px 3px 1px rgba(60, 64, 67, 0.15);\n",
              "      fill: #174EA6;\n",
              "    }\n",
              "\n",
              "    [theme=dark] .colab-df-convert {\n",
              "      background-color: #3B4455;\n",
              "      fill: #D2E3FC;\n",
              "    }\n",
              "\n",
              "    [theme=dark] .colab-df-convert:hover {\n",
              "      background-color: #434B5C;\n",
              "      box-shadow: 0px 1px 3px 1px rgba(0, 0, 0, 0.15);\n",
              "      filter: drop-shadow(0px 1px 2px rgba(0, 0, 0, 0.3));\n",
              "      fill: #FFFFFF;\n",
              "    }\n",
              "  </style>\n",
              "\n",
              "      <script>\n",
              "        const buttonEl =\n",
              "          document.querySelector('#df-5ee990e7-38e7-4840-90c1-c588e3372ee3 button.colab-df-convert');\n",
              "        buttonEl.style.display =\n",
              "          google.colab.kernel.accessAllowed ? 'block' : 'none';\n",
              "\n",
              "        async function convertToInteractive(key) {\n",
              "          const element = document.querySelector('#df-5ee990e7-38e7-4840-90c1-c588e3372ee3');\n",
              "          const dataTable =\n",
              "            await google.colab.kernel.invokeFunction('convertToInteractive',\n",
              "                                                     [key], {});\n",
              "          if (!dataTable) return;\n",
              "\n",
              "          const docLinkHtml = 'Like what you see? Visit the ' +\n",
              "            '<a target=\"_blank\" href=https://colab.research.google.com/notebooks/data_table.ipynb>data table notebook</a>'\n",
              "            + ' to learn more about interactive tables.';\n",
              "          element.innerHTML = '';\n",
              "          dataTable['output_type'] = 'display_data';\n",
              "          await google.colab.output.renderOutput(dataTable, element);\n",
              "          const docLink = document.createElement('div');\n",
              "          docLink.innerHTML = docLinkHtml;\n",
              "          element.appendChild(docLink);\n",
              "        }\n",
              "      </script>\n",
              "    </div>\n",
              "  </div>\n",
              "  "
            ],
            "text/plain": [
              "                                      accuracy  precision    recall        f1\n",
              "model_0_baseline                     72.183238   0.718647  0.721832  0.698925\n",
              "model_1_custom_token_embedding       78.581358   0.782751  0.785814  0.783653\n",
              "model_2_pretrained_token_embedding   71.190256   0.712744  0.711903  0.709268\n",
              "model_3_custom_char_embedding        66.344499   0.657716  0.663445  0.654122\n",
              "model_4_hybrid_char_token_embedding  73.785251   0.737546  0.737853  0.736361\n",
              "model_5_pos_char_token_embedding     83.344366   0.832687  0.833444  0.832431"
            ]
          },
          "execution_count": 260,
          "metadata": {},
          "output_type": "execute_result"
        }
      ],
      "source": [
        "# combine results into a dataframe\n",
        "all_model_result = pd.DataFrame({\"model_0_baseline\": baseline_results,\n",
        "                                 \"model_1_custom_token_embedding\": model_1_results,\n",
        "                                 \"model_2_pretrained_token_embedding\": model_2_results,\n",
        "                                 \"model_3_custom_char_embedding\": model_3_results,\n",
        "                                 \"model_4_hybrid_char_token_embedding\": model_4_results,\n",
        "                                 \"model_5_pos_char_token_embedding\": model_5_results})\n",
        "all_model_result = all_model_result.transpose()\n",
        "all_model_result"
      ]
    },
    {
      "cell_type": "code",
      "execution_count": null,
      "metadata": {
        "id": "-JhZZ-0ADn22"
      },
      "outputs": [],
      "source": [
        "# reduce the accuracy to same scale as other metrics\n",
        "all_model_result['accuracy'] = all_model_result['accuracy']/100"
      ]
    },
    {
      "cell_type": "code",
      "execution_count": null,
      "metadata": {
        "colab": {
          "base_uri": "https://localhost:8080/",
          "height": 605
        },
        "id": "jYxmO4CUELJ0",
        "outputId": "53e317fa-a4ad-4dff-f892-75d16f4b242e"
      },
      "outputs": [
        {
          "data": {
            "text/plain": [
              "<matplotlib.legend.Legend at 0x7f70b01f4e20>"
            ]
          },
          "execution_count": 262,
          "metadata": {},
          "output_type": "execute_result"
        },
        {
          "data": {
            "image/png": "[encoded data removed]",
            "text/plain": [
              "<Figure size 720x504 with 1 Axes>"
            ]
          },
          "metadata": {},
          "output_type": "display_data"
        }
      ],
      "source": [
        "# plot and compare all model results\n",
        "all_model_result.plot(kind=\"bar\", figsize=(10, 7)).legend(bbox_to_anchor=(1.0, 1.0))"
      ]
    },
    {
      "cell_type": "code",
      "execution_count": null,
      "metadata": {
        "colab": {
          "base_uri": "https://localhost:8080/",
          "height": 636
        },
        "id": "f3F5s-YCEgsn",
        "outputId": "d5f8c320-e030-4799-f6a1-83d2d8c32c39"
      },
      "outputs": [
        {
          "data": {
            "text/plain": [
              "<Axes: >"
            ]
          },
          "execution_count": 263,
          "metadata": {},
          "output_type": "execute_result"
        },
        {
          "data": {
            "image/png": "[encoded data removed]",
            "text/plain": [
              "<Figure size 720x504 with 1 Axes>"
            ]
          },
          "metadata": {},
          "output_type": "display_data"
        }
      ],
      "source": [
        "# sort models results by f1-score\n",
        "all_model_result.sort_values('f1', ascending=True)[\"f1\"].plot(kind=\"bar\", figsize=(10, 7))"
      ]
    },
    {
      "cell_type": "markdown",
      "metadata": {
        "id": "-duf-O3RF1zh"
      },
      "source": [
        "# Save and load model"
      ]
    },
    {
      "cell_type": "code",
      "execution_count": null,
      "metadata": {
        "colab": {
          "base_uri": "https://localhost:8080/"
        },
        "id": "AoaHnmxJGVbX",
        "outputId": "a9f24375-8bff-4d75-ee26-e1c1343a1981"
      },
      "outputs": [
        {
          "name": "stderr",
          "output_type": "stream",
          "text": [
            "WARNING:absl:Found untraced functions such as lstm_cell_13_layer_call_fn, lstm_cell_13_layer_call_and_return_conditional_losses, lstm_cell_14_layer_call_fn, lstm_cell_14_layer_call_and_return_conditional_losses while saving (showing 4 of 4). These functions will not be directly callable after loading.\n"
          ]
        }
      ],
      "source": [
        "# save the best performing model\n",
        "model_5.save(\"skimlit_tribrid_model\")"
      ]
    },
    {
      "cell_type": "code",
      "execution_count": null,
      "metadata": {
        "id": "2fPL-D8-GjVb"
      },
      "outputs": [],
      "source": [
        "# load in best performing model\n",
        "loaded_model = tf.keras.models.load_model(\"skimlit_tribrid_model\")"
      ]
    },
    {
      "cell_type": "code",
      "execution_count": null,
      "metadata": {
        "colab": {
          "base_uri": "https://localhost:8080/"
        },
        "id": "u8L_87fDG9N8",
        "outputId": "5740bdd6-031f-42cd-c085-22412ebab887"
      },
      "outputs": [
        {
          "name": "stdout",
          "output_type": "stream",
          "text": [
            "945/945 [==============================] - 20s 22ms/step\n"
          ]
        },
        {
          "data": {
            "text/plain": [
              "<tf.Tensor: shape=(10,), dtype=int64, numpy=array([0, 0, 3, 2, 2, 4, 4, 4, 4, 1])>"
            ]
          },
          "execution_count": 268,
          "metadata": {},
          "output_type": "execute_result"
        }
      ],
      "source": [
        "# make prediction with the loaded model on the validation set\n",
        "loaded_pred_probs = loaded_model.predict(val_pos_char_token_dataset)\n",
        "loaded_preds = tf.argmax(loaded_pred_probs, axis=1)\n",
        "loaded_preds[:10]"
      ]
    },
    {
      "cell_type": "code",
      "execution_count": null,
      "metadata": {
        "colab": {
          "base_uri": "https://localhost:8080/"
        },
        "id": "J_huffTJHf3k",
        "outputId": "0053a08d-8b60-4a1a-d755-be78f421f8c9"
      },
      "outputs": [
        {
          "data": {
            "text/plain": [
              "{'accuracy': 83.3443664768966,\n",
              " 'precision': 0.832687201916737,\n",
              " 'recall': 0.8334436647689659,\n",
              " 'f1': 0.8324306114382476}"
            ]
          },
          "execution_count": 269,
          "metadata": {},
          "output_type": "execute_result"
        }
      ],
      "source": [
        "# calculate results of loaded model\n",
        "loaded_model_result = calculate_results(val_labels_encoded,\n",
        "                                        loaded_preds)\n",
        "loaded_model_result"
      ]
    },
    {
      "cell_type": "code",
      "execution_count": null,
      "metadata": {
        "id": "oXuDhXPNIG8i"
      },
      "outputs": [],
      "source": [
        "assert model_5_results == loaded_model_result"
      ]
    },
    {
      "cell_type": "code",
      "execution_count": null,
      "metadata": {
        "colab": {
          "base_uri": "https://localhost:8080/"
        },
        "id": "mC12gdGoIKWk",
        "outputId": "c46485b1-a993-4607-efaa-5515aedcad14"
      },
      "outputs": [
        {
          "name": "stdout",
          "output_type": "stream",
          "text": [
            "945/945 [==============================] - 22s 19ms/step - loss: 0.9369 - accuracy: 0.8334\n"
          ]
        },
        {
          "data": {
            "text/plain": [
              "[0.936902642250061, 0.8334436416625977]"
            ]
          },
          "execution_count": 272,
          "metadata": {},
          "output_type": "execute_result"
        }
      ],
      "source": [
        "# evaluate model\n",
        "loaded_model.evaluate(val_pos_char_token_dataset)"
      ]
    }
  ],
  "metadata": {
    "accelerator": "GPU",
    "colab": {
      "collapsed_sections": [
        "v96eMs21NS3U",
        "SGkrE-abRpGU",
        "wNGrNnPsFAB5",
        "rT7S6xc0F32Z"
      ],
      "provenance": [],
      "toc_visible": true,
      "include_colab_link": true
    },
    "gpuClass": "standard",
    "kernelspec": {
      "display_name": "Python 3",
      "name": "python3"
    },
    "language_info": {
      "name": "python"
    }
  },
  "nbformat": 4,
  "nbformat_minor": 0
}